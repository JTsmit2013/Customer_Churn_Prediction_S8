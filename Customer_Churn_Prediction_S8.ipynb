{
 "cells": [
  {
   "cell_type": "markdown",
   "metadata": {},
   "source": [
    "# Sprint 8: Customer Churn Prediction"
   ]
  },
  {
   "cell_type": "markdown",
   "metadata": {},
   "source": [
    "# Project Overview\n",
    "\n",
    "This project focuses on predicting whether a customer will leave the bank using machine learning models. The primary objective is to build a model that achieves the highest possible F1 score, with a minimum requirement of 0.59 for passing. The model's performance will be evaluated on the test set, and the AUC-ROC metric will be measured and compared with the F1 score to assess its effectiveness.\n",
    "\n",
    "The project consists of the following steps:\n",
    "\n",
    "1. ***Data Preparation*** – Download and preprocess the dataset, ensuring it is clean and ready for analysis. The preparation steps will be explained in detail.\n",
    "2. ***Class Balance Analysis*** – Examine the distribution of classes and train an initial model without addressing class imbalance. Observations from this step will be summarized.\n",
    "3. ***Model Optimization*** – Improve model quality by applying at least two techniques to address class imbalance. Hyperparameters will be fine-tuned using the training set, and multiple models will be trained and evaluated on both training and validation sets to identify the most effective one. Key findings will be documented.\n",
    "4. ***Final Testing*** – Evaluate the best-performing model on the test set to verify its generalization and performance."
   ]
  },
  {
   "cell_type": "markdown",
   "metadata": {},
   "source": [
    "***The Data:***\n",
    "\n",
    "***Features***\n",
    "\n",
    "- RowNumber — data string index\n",
    "- CustomerId — unique customer identifier\n",
    "- Surname — surname\n",
    "- CreditScore — credit score\n",
    "- Geography — country of residence\n",
    "- Gender — gender\n",
    "- Age — age\n",
    "- Tenure — period of maturation for a customer’s fixed deposit (years)\n",
    "- Balance — account balance\n",
    "- NumOfProducts — number of banking products used by the customer\n",
    "- HasCrCard — customer has a credit card\n",
    "- IsActiveMember — customer’s activeness\n",
    "- EstimatedSalary — estimated salary\n",
    "\n",
    "***Target***\n",
    "\n",
    "- Exited — сustomer has left"
   ]
  },
  {
   "cell_type": "markdown",
   "metadata": {},
   "source": [
    "## Intial look at the Data"
   ]
  },
  {
   "cell_type": "code",
   "execution_count": 184,
   "metadata": {},
   "outputs": [],
   "source": [
    "import pandas as pd\n",
    "from sklearn.tree import DecisionTreeClassifier\n",
    "from sklearn.ensemble import RandomForestClassifier\n",
    "from sklearn.linear_model import LogisticRegression\n",
    "from sklearn.model_selection import train_test_split\n",
    "from sklearn.metrics import f1_score\n",
    "from sklearn.metrics import precision_score\n",
    "from sklearn.metrics import recall_score\n",
    "from sklearn.metrics import roc_curve\n",
    "import matplotlib.pyplot as plt\n",
    "from sklearn.utils import shuffle\n",
    "from sklearn.metrics import accuracy_score\n",
    "from sklearn.model_selection import GridSearchCV\n",
    "from sklearn.metrics import precision_recall_curve\n",
    "from sklearn.metrics import roc_auc_score"
   ]
  },
  {
   "cell_type": "code",
   "execution_count": 185,
   "metadata": {},
   "outputs": [
    {
     "data": {
      "text/html": [
       "<div>\n",
       "<style scoped>\n",
       "    .dataframe tbody tr th:only-of-type {\n",
       "        vertical-align: middle;\n",
       "    }\n",
       "\n",
       "    .dataframe tbody tr th {\n",
       "        vertical-align: top;\n",
       "    }\n",
       "\n",
       "    .dataframe thead th {\n",
       "        text-align: right;\n",
       "    }\n",
       "</style>\n",
       "<table border=\"1\" class=\"dataframe\">\n",
       "  <thead>\n",
       "    <tr style=\"text-align: right;\">\n",
       "      <th></th>\n",
       "      <th>RowNumber</th>\n",
       "      <th>CustomerId</th>\n",
       "      <th>Surname</th>\n",
       "      <th>CreditScore</th>\n",
       "      <th>Geography</th>\n",
       "      <th>Gender</th>\n",
       "      <th>Age</th>\n",
       "      <th>Tenure</th>\n",
       "      <th>Balance</th>\n",
       "      <th>NumOfProducts</th>\n",
       "      <th>HasCrCard</th>\n",
       "      <th>IsActiveMember</th>\n",
       "      <th>EstimatedSalary</th>\n",
       "      <th>Exited</th>\n",
       "    </tr>\n",
       "  </thead>\n",
       "  <tbody>\n",
       "    <tr>\n",
       "      <th>0</th>\n",
       "      <td>1</td>\n",
       "      <td>15634602</td>\n",
       "      <td>Hargrave</td>\n",
       "      <td>619</td>\n",
       "      <td>France</td>\n",
       "      <td>Female</td>\n",
       "      <td>42</td>\n",
       "      <td>2.0</td>\n",
       "      <td>0.00</td>\n",
       "      <td>1</td>\n",
       "      <td>1</td>\n",
       "      <td>1</td>\n",
       "      <td>101348.88</td>\n",
       "      <td>1</td>\n",
       "    </tr>\n",
       "    <tr>\n",
       "      <th>1</th>\n",
       "      <td>2</td>\n",
       "      <td>15647311</td>\n",
       "      <td>Hill</td>\n",
       "      <td>608</td>\n",
       "      <td>Spain</td>\n",
       "      <td>Female</td>\n",
       "      <td>41</td>\n",
       "      <td>1.0</td>\n",
       "      <td>83807.86</td>\n",
       "      <td>1</td>\n",
       "      <td>0</td>\n",
       "      <td>1</td>\n",
       "      <td>112542.58</td>\n",
       "      <td>0</td>\n",
       "    </tr>\n",
       "    <tr>\n",
       "      <th>2</th>\n",
       "      <td>3</td>\n",
       "      <td>15619304</td>\n",
       "      <td>Onio</td>\n",
       "      <td>502</td>\n",
       "      <td>France</td>\n",
       "      <td>Female</td>\n",
       "      <td>42</td>\n",
       "      <td>8.0</td>\n",
       "      <td>159660.80</td>\n",
       "      <td>3</td>\n",
       "      <td>1</td>\n",
       "      <td>0</td>\n",
       "      <td>113931.57</td>\n",
       "      <td>1</td>\n",
       "    </tr>\n",
       "    <tr>\n",
       "      <th>3</th>\n",
       "      <td>4</td>\n",
       "      <td>15701354</td>\n",
       "      <td>Boni</td>\n",
       "      <td>699</td>\n",
       "      <td>France</td>\n",
       "      <td>Female</td>\n",
       "      <td>39</td>\n",
       "      <td>1.0</td>\n",
       "      <td>0.00</td>\n",
       "      <td>2</td>\n",
       "      <td>0</td>\n",
       "      <td>0</td>\n",
       "      <td>93826.63</td>\n",
       "      <td>0</td>\n",
       "    </tr>\n",
       "    <tr>\n",
       "      <th>4</th>\n",
       "      <td>5</td>\n",
       "      <td>15737888</td>\n",
       "      <td>Mitchell</td>\n",
       "      <td>850</td>\n",
       "      <td>Spain</td>\n",
       "      <td>Female</td>\n",
       "      <td>43</td>\n",
       "      <td>2.0</td>\n",
       "      <td>125510.82</td>\n",
       "      <td>1</td>\n",
       "      <td>1</td>\n",
       "      <td>1</td>\n",
       "      <td>79084.10</td>\n",
       "      <td>0</td>\n",
       "    </tr>\n",
       "  </tbody>\n",
       "</table>\n",
       "</div>"
      ],
      "text/plain": [
       "   RowNumber  CustomerId   Surname  CreditScore Geography  Gender  Age  \\\n",
       "0          1    15634602  Hargrave          619    France  Female   42   \n",
       "1          2    15647311      Hill          608     Spain  Female   41   \n",
       "2          3    15619304      Onio          502    France  Female   42   \n",
       "3          4    15701354      Boni          699    France  Female   39   \n",
       "4          5    15737888  Mitchell          850     Spain  Female   43   \n",
       "\n",
       "   Tenure    Balance  NumOfProducts  HasCrCard  IsActiveMember  \\\n",
       "0     2.0       0.00              1          1               1   \n",
       "1     1.0   83807.86              1          0               1   \n",
       "2     8.0  159660.80              3          1               0   \n",
       "3     1.0       0.00              2          0               0   \n",
       "4     2.0  125510.82              1          1               1   \n",
       "\n",
       "   EstimatedSalary  Exited  \n",
       "0        101348.88       1  \n",
       "1        112542.58       0  \n",
       "2        113931.57       1  \n",
       "3         93826.63       0  \n",
       "4         79084.10       0  "
      ]
     },
     "metadata": {},
     "output_type": "display_data"
    },
    {
     "name": "stdout",
     "output_type": "stream",
     "text": [
      "<class 'pandas.core.frame.DataFrame'>\n",
      "RangeIndex: 10000 entries, 0 to 9999\n",
      "Data columns (total 14 columns):\n",
      " #   Column           Non-Null Count  Dtype  \n",
      "---  ------           --------------  -----  \n",
      " 0   RowNumber        10000 non-null  int64  \n",
      " 1   CustomerId       10000 non-null  int64  \n",
      " 2   Surname          10000 non-null  object \n",
      " 3   CreditScore      10000 non-null  int64  \n",
      " 4   Geography        10000 non-null  object \n",
      " 5   Gender           10000 non-null  object \n",
      " 6   Age              10000 non-null  int64  \n",
      " 7   Tenure           9091 non-null   float64\n",
      " 8   Balance          10000 non-null  float64\n",
      " 9   NumOfProducts    10000 non-null  int64  \n",
      " 10  HasCrCard        10000 non-null  int64  \n",
      " 11  IsActiveMember   10000 non-null  int64  \n",
      " 12  EstimatedSalary  10000 non-null  float64\n",
      " 13  Exited           10000 non-null  int64  \n",
      "dtypes: float64(3), int64(8), object(3)\n",
      "memory usage: 1.1+ MB\n"
     ]
    }
   ],
   "source": [
    "data = pd.read_csv('/datasets/Churn.csv')\n",
    "display(data.head())\n",
    "data.info()"
   ]
  },
  {
   "cell_type": "code",
   "execution_count": 186,
   "metadata": {},
   "outputs": [
    {
     "data": {
      "text/html": [
       "<div>\n",
       "<style scoped>\n",
       "    .dataframe tbody tr th:only-of-type {\n",
       "        vertical-align: middle;\n",
       "    }\n",
       "\n",
       "    .dataframe tbody tr th {\n",
       "        vertical-align: top;\n",
       "    }\n",
       "\n",
       "    .dataframe thead th {\n",
       "        text-align: right;\n",
       "    }\n",
       "</style>\n",
       "<table border=\"1\" class=\"dataframe\">\n",
       "  <thead>\n",
       "    <tr style=\"text-align: right;\">\n",
       "      <th></th>\n",
       "      <th>RowNumber</th>\n",
       "      <th>CustomerId</th>\n",
       "      <th>Surname</th>\n",
       "      <th>CreditScore</th>\n",
       "      <th>Geography</th>\n",
       "      <th>Gender</th>\n",
       "      <th>Age</th>\n",
       "      <th>Tenure</th>\n",
       "      <th>Balance</th>\n",
       "      <th>NumOfProducts</th>\n",
       "      <th>HasCrCard</th>\n",
       "      <th>IsActiveMember</th>\n",
       "      <th>EstimatedSalary</th>\n",
       "      <th>Exited</th>\n",
       "    </tr>\n",
       "  </thead>\n",
       "  <tbody>\n",
       "    <tr>\n",
       "      <th>30</th>\n",
       "      <td>31</td>\n",
       "      <td>15589475</td>\n",
       "      <td>Azikiwe</td>\n",
       "      <td>591</td>\n",
       "      <td>Spain</td>\n",
       "      <td>Female</td>\n",
       "      <td>39</td>\n",
       "      <td>NaN</td>\n",
       "      <td>0.00</td>\n",
       "      <td>3</td>\n",
       "      <td>1</td>\n",
       "      <td>0</td>\n",
       "      <td>140469.38</td>\n",
       "      <td>1</td>\n",
       "    </tr>\n",
       "    <tr>\n",
       "      <th>48</th>\n",
       "      <td>49</td>\n",
       "      <td>15766205</td>\n",
       "      <td>Yin</td>\n",
       "      <td>550</td>\n",
       "      <td>Germany</td>\n",
       "      <td>Male</td>\n",
       "      <td>38</td>\n",
       "      <td>NaN</td>\n",
       "      <td>103391.38</td>\n",
       "      <td>1</td>\n",
       "      <td>0</td>\n",
       "      <td>1</td>\n",
       "      <td>90878.13</td>\n",
       "      <td>0</td>\n",
       "    </tr>\n",
       "    <tr>\n",
       "      <th>51</th>\n",
       "      <td>52</td>\n",
       "      <td>15768193</td>\n",
       "      <td>Trevisani</td>\n",
       "      <td>585</td>\n",
       "      <td>Germany</td>\n",
       "      <td>Male</td>\n",
       "      <td>36</td>\n",
       "      <td>NaN</td>\n",
       "      <td>146050.97</td>\n",
       "      <td>2</td>\n",
       "      <td>0</td>\n",
       "      <td>0</td>\n",
       "      <td>86424.57</td>\n",
       "      <td>0</td>\n",
       "    </tr>\n",
       "    <tr>\n",
       "      <th>53</th>\n",
       "      <td>54</td>\n",
       "      <td>15702298</td>\n",
       "      <td>Parkhill</td>\n",
       "      <td>655</td>\n",
       "      <td>Germany</td>\n",
       "      <td>Male</td>\n",
       "      <td>41</td>\n",
       "      <td>NaN</td>\n",
       "      <td>125561.97</td>\n",
       "      <td>1</td>\n",
       "      <td>0</td>\n",
       "      <td>0</td>\n",
       "      <td>164040.94</td>\n",
       "      <td>1</td>\n",
       "    </tr>\n",
       "    <tr>\n",
       "      <th>60</th>\n",
       "      <td>61</td>\n",
       "      <td>15651280</td>\n",
       "      <td>Hunter</td>\n",
       "      <td>742</td>\n",
       "      <td>Germany</td>\n",
       "      <td>Male</td>\n",
       "      <td>35</td>\n",
       "      <td>NaN</td>\n",
       "      <td>136857.00</td>\n",
       "      <td>1</td>\n",
       "      <td>0</td>\n",
       "      <td>0</td>\n",
       "      <td>84509.57</td>\n",
       "      <td>0</td>\n",
       "    </tr>\n",
       "    <tr>\n",
       "      <th>...</th>\n",
       "      <td>...</td>\n",
       "      <td>...</td>\n",
       "      <td>...</td>\n",
       "      <td>...</td>\n",
       "      <td>...</td>\n",
       "      <td>...</td>\n",
       "      <td>...</td>\n",
       "      <td>...</td>\n",
       "      <td>...</td>\n",
       "      <td>...</td>\n",
       "      <td>...</td>\n",
       "      <td>...</td>\n",
       "      <td>...</td>\n",
       "      <td>...</td>\n",
       "    </tr>\n",
       "    <tr>\n",
       "      <th>9944</th>\n",
       "      <td>9945</td>\n",
       "      <td>15703923</td>\n",
       "      <td>Cameron</td>\n",
       "      <td>744</td>\n",
       "      <td>Germany</td>\n",
       "      <td>Male</td>\n",
       "      <td>41</td>\n",
       "      <td>NaN</td>\n",
       "      <td>190409.34</td>\n",
       "      <td>2</td>\n",
       "      <td>1</td>\n",
       "      <td>1</td>\n",
       "      <td>138361.48</td>\n",
       "      <td>0</td>\n",
       "    </tr>\n",
       "    <tr>\n",
       "      <th>9956</th>\n",
       "      <td>9957</td>\n",
       "      <td>15707861</td>\n",
       "      <td>Nucci</td>\n",
       "      <td>520</td>\n",
       "      <td>France</td>\n",
       "      <td>Female</td>\n",
       "      <td>46</td>\n",
       "      <td>NaN</td>\n",
       "      <td>85216.61</td>\n",
       "      <td>1</td>\n",
       "      <td>1</td>\n",
       "      <td>0</td>\n",
       "      <td>117369.52</td>\n",
       "      <td>1</td>\n",
       "    </tr>\n",
       "    <tr>\n",
       "      <th>9964</th>\n",
       "      <td>9965</td>\n",
       "      <td>15642785</td>\n",
       "      <td>Douglas</td>\n",
       "      <td>479</td>\n",
       "      <td>France</td>\n",
       "      <td>Male</td>\n",
       "      <td>34</td>\n",
       "      <td>NaN</td>\n",
       "      <td>117593.48</td>\n",
       "      <td>2</td>\n",
       "      <td>0</td>\n",
       "      <td>0</td>\n",
       "      <td>113308.29</td>\n",
       "      <td>0</td>\n",
       "    </tr>\n",
       "    <tr>\n",
       "      <th>9985</th>\n",
       "      <td>9986</td>\n",
       "      <td>15586914</td>\n",
       "      <td>Nepean</td>\n",
       "      <td>659</td>\n",
       "      <td>France</td>\n",
       "      <td>Male</td>\n",
       "      <td>36</td>\n",
       "      <td>NaN</td>\n",
       "      <td>123841.49</td>\n",
       "      <td>2</td>\n",
       "      <td>1</td>\n",
       "      <td>0</td>\n",
       "      <td>96833.00</td>\n",
       "      <td>0</td>\n",
       "    </tr>\n",
       "    <tr>\n",
       "      <th>9999</th>\n",
       "      <td>10000</td>\n",
       "      <td>15628319</td>\n",
       "      <td>Walker</td>\n",
       "      <td>792</td>\n",
       "      <td>France</td>\n",
       "      <td>Female</td>\n",
       "      <td>28</td>\n",
       "      <td>NaN</td>\n",
       "      <td>130142.79</td>\n",
       "      <td>1</td>\n",
       "      <td>1</td>\n",
       "      <td>0</td>\n",
       "      <td>38190.78</td>\n",
       "      <td>0</td>\n",
       "    </tr>\n",
       "  </tbody>\n",
       "</table>\n",
       "<p>909 rows × 14 columns</p>\n",
       "</div>"
      ],
      "text/plain": [
       "      RowNumber  CustomerId    Surname  CreditScore Geography  Gender  Age  \\\n",
       "30           31    15589475    Azikiwe          591     Spain  Female   39   \n",
       "48           49    15766205        Yin          550   Germany    Male   38   \n",
       "51           52    15768193  Trevisani          585   Germany    Male   36   \n",
       "53           54    15702298   Parkhill          655   Germany    Male   41   \n",
       "60           61    15651280     Hunter          742   Germany    Male   35   \n",
       "...         ...         ...        ...          ...       ...     ...  ...   \n",
       "9944       9945    15703923    Cameron          744   Germany    Male   41   \n",
       "9956       9957    15707861      Nucci          520    France  Female   46   \n",
       "9964       9965    15642785    Douglas          479    France    Male   34   \n",
       "9985       9986    15586914     Nepean          659    France    Male   36   \n",
       "9999      10000    15628319     Walker          792    France  Female   28   \n",
       "\n",
       "      Tenure    Balance  NumOfProducts  HasCrCard  IsActiveMember  \\\n",
       "30       NaN       0.00              3          1               0   \n",
       "48       NaN  103391.38              1          0               1   \n",
       "51       NaN  146050.97              2          0               0   \n",
       "53       NaN  125561.97              1          0               0   \n",
       "60       NaN  136857.00              1          0               0   \n",
       "...      ...        ...            ...        ...             ...   \n",
       "9944     NaN  190409.34              2          1               1   \n",
       "9956     NaN   85216.61              1          1               0   \n",
       "9964     NaN  117593.48              2          0               0   \n",
       "9985     NaN  123841.49              2          1               0   \n",
       "9999     NaN  130142.79              1          1               0   \n",
       "\n",
       "      EstimatedSalary  Exited  \n",
       "30          140469.38       1  \n",
       "48           90878.13       0  \n",
       "51           86424.57       0  \n",
       "53          164040.94       1  \n",
       "60           84509.57       0  \n",
       "...               ...     ...  \n",
       "9944        138361.48       0  \n",
       "9956        117369.52       1  \n",
       "9964        113308.29       0  \n",
       "9985         96833.00       0  \n",
       "9999         38190.78       0  \n",
       "\n",
       "[909 rows x 14 columns]"
      ]
     },
     "metadata": {},
     "output_type": "display_data"
    },
    {
     "data": {
      "text/plain": [
       "4.997690023099769"
      ]
     },
     "metadata": {},
     "output_type": "display_data"
    }
   ],
   "source": [
    "#Looking into the Null Tenure data\n",
    "display(data[data['Tenure'].isnull()])\n",
    "# finding the mean value for tenure\n",
    "tenure_mean = data['Tenure'].mean()\n",
    "display(tenure_mean)\n",
    "#filling tenure nan with mean\n",
    "data['Tenure'] = data['Tenure'].fillna(tenure_mean)"
   ]
  },
  {
   "cell_type": "code",
   "execution_count": 187,
   "metadata": {},
   "outputs": [
    {
     "name": "stdout",
     "output_type": "stream",
     "text": [
      "<class 'pandas.core.frame.DataFrame'>\n",
      "RangeIndex: 10000 entries, 0 to 9999\n",
      "Data columns (total 14 columns):\n",
      " #   Column           Non-Null Count  Dtype  \n",
      "---  ------           --------------  -----  \n",
      " 0   RowNumber        10000 non-null  int64  \n",
      " 1   CustomerId       10000 non-null  int64  \n",
      " 2   Surname          10000 non-null  object \n",
      " 3   CreditScore      10000 non-null  int64  \n",
      " 4   Geography        10000 non-null  object \n",
      " 5   Gender           10000 non-null  object \n",
      " 6   Age              10000 non-null  int64  \n",
      " 7   Tenure           10000 non-null  float64\n",
      " 8   Balance          10000 non-null  float64\n",
      " 9   NumOfProducts    10000 non-null  int64  \n",
      " 10  HasCrCard        10000 non-null  int64  \n",
      " 11  IsActiveMember   10000 non-null  int64  \n",
      " 12  EstimatedSalary  10000 non-null  float64\n",
      " 13  Exited           10000 non-null  int64  \n",
      "dtypes: float64(3), int64(8), object(3)\n",
      "memory usage: 1.1+ MB\n"
     ]
    }
   ],
   "source": [
    "#review of updated data frame\n",
    "data.info()"
   ]
  },
  {
   "cell_type": "code",
   "execution_count": 188,
   "metadata": {},
   "outputs": [
    {
     "data": {
      "text/plain": [
       "0"
      ]
     },
     "metadata": {},
     "output_type": "display_data"
    },
    {
     "data": {
      "text/plain": [
       "0"
      ]
     },
     "metadata": {},
     "output_type": "display_data"
    }
   ],
   "source": [
    "# full line duplication\n",
    "display(data.duplicated().sum())\n",
    "# customerid duplication\n",
    "display(data['CustomerId'].duplicated().sum())"
   ]
  },
  {
   "cell_type": "markdown",
   "metadata": {},
   "source": [
    "***Conclusion:***\n",
    "\n",
    "- There were 909 records/rows that were missing a Tenure data point. These records were excluded from the data.\n",
    "- There were no fully duplicated rows nore customer ids"
   ]
  },
  {
   "cell_type": "markdown",
   "metadata": {},
   "source": [
    "## Data splitting"
   ]
  },
  {
   "cell_type": "code",
   "execution_count": 189,
   "metadata": {},
   "outputs": [],
   "source": [
    "#splitting data into relevant target and features groups\n",
    "target = data['Exited']\n",
    "features = data[['CreditScore', 'Geography', 'Gender', 'Age', 'Tenure', 'Balance', 'NumOfProducts', 'HasCrCard', 'IsActiveMember', 'EstimatedSalary']]"
   ]
  },
  {
   "cell_type": "code",
   "execution_count": 190,
   "metadata": {},
   "outputs": [
    {
     "name": "stdout",
     "output_type": "stream",
     "text": [
      "<class 'pandas.core.frame.DataFrame'>\n",
      "RangeIndex: 10000 entries, 0 to 9999\n",
      "Data columns (total 11 columns):\n",
      " #   Column             Non-Null Count  Dtype  \n",
      "---  ------             --------------  -----  \n",
      " 0   CreditScore        10000 non-null  int64  \n",
      " 1   Age                10000 non-null  int64  \n",
      " 2   Tenure             10000 non-null  float64\n",
      " 3   Balance            10000 non-null  float64\n",
      " 4   NumOfProducts      10000 non-null  int64  \n",
      " 5   HasCrCard          10000 non-null  int64  \n",
      " 6   IsActiveMember     10000 non-null  int64  \n",
      " 7   EstimatedSalary    10000 non-null  float64\n",
      " 8   Geography_Germany  10000 non-null  uint8  \n",
      " 9   Geography_Spain    10000 non-null  uint8  \n",
      " 10  Gender_Male        10000 non-null  uint8  \n",
      "dtypes: float64(3), int64(5), uint8(3)\n",
      "memory usage: 654.4 KB\n"
     ]
    },
    {
     "data": {
      "text/plain": [
       "None"
      ]
     },
     "metadata": {},
     "output_type": "display_data"
    }
   ],
   "source": [
    "#changing dtype to numeric for Geography, Gender\n",
    "features_encoded = pd.get_dummies(features,drop_first=True)\n",
    "#reviewing data of features\n",
    "display(features_encoded.info())\n",
    "#display(features_encoded.isna().count())"
   ]
  },
  {
   "cell_type": "markdown",
   "metadata": {},
   "source": [
    "***Take away:***\n",
    "- RowNumber, CustomerId, Surname were taken out of the feature data because that won't have an effect on the analysis \n",
    "- Geography, Gender changed to numeric form to allow for the model to use them"
   ]
  },
  {
   "cell_type": "code",
   "execution_count": 191,
   "metadata": {},
   "outputs": [],
   "source": [
    "# Split into train (60%) and temp (40%)\n",
    "features_train, features_temp, target_train, target_temp = train_test_split(\n",
    "    features_encoded, target, test_size=0.4, random_state=12345)\n",
    "\n",
    "# Split the temp into validation (50% of temp, which is 20% of total) and test (50% of temp, which is 20% of total)\n",
    "features_valid, features_test, target_valid, target_test = train_test_split(\n",
    "    features_temp, target_temp, test_size=0.5, random_state=12345)"
   ]
  },
  {
   "cell_type": "code",
   "execution_count": 192,
   "metadata": {},
   "outputs": [
    {
     "name": "stdout",
     "output_type": "stream",
     "text": [
      "0.5012165450121654\n"
     ]
    }
   ],
   "source": [
    "# Train the model 'DecisionTreeClassifier'\n",
    "model = DecisionTreeClassifier(random_state=12345)\n",
    "model.fit(features_train, target_train)\n",
    "\n",
    "# Make predictions\n",
    "predicted_valid = model.predict(features_valid)\n",
    "\n",
    "# Calculate and print the F1 score\n",
    "print(f1_score(target_valid, predicted_valid))"
   ]
  },
  {
   "cell_type": "code",
   "execution_count": 193,
   "metadata": {},
   "outputs": [
    {
     "name": "stdout",
     "output_type": "stream",
     "text": [
      "0.08786610878661089\n"
     ]
    }
   ],
   "source": [
    "# Train the model 'LogisticRegression'\n",
    "model = LogisticRegression(random_state=12345)\n",
    "model.fit(features_train, target_train)\n",
    "\n",
    "# Make predictions\n",
    "predicted_valid = model.predict(features_valid)\n",
    "\n",
    "# Calculate and print the F1 score\n",
    "print(f1_score(target_valid, predicted_valid))"
   ]
  },
  {
   "cell_type": "code",
   "execution_count": 194,
   "metadata": {},
   "outputs": [
    {
     "name": "stdout",
     "output_type": "stream",
     "text": [
      "0.574436090225564\n"
     ]
    }
   ],
   "source": [
    "# Train the model 'RandomForestClassifier'\n",
    "model = RandomForestClassifier(random_state=12345)\n",
    "model.fit(features_train, target_train)\n",
    "\n",
    "# Make predictions\n",
    "predicted_valid = model.predict(features_valid)\n",
    "\n",
    "# Calculate and print the F1 score\n",
    "print(f1_score(target_valid, predicted_valid))"
   ]
  },
  {
   "cell_type": "code",
   "execution_count": 195,
   "metadata": {},
   "outputs": [
    {
     "name": "stdout",
     "output_type": "stream",
     "text": [
      "0.7732793522267206\n",
      "0.4569377990430622\n"
     ]
    }
   ],
   "source": [
    "#presicion score\n",
    "print(precision_score(target_valid,predicted_valid))\n",
    "#recall score\n",
    "print(recall_score(target_valid,predicted_valid))\n"
   ]
  },
  {
   "cell_type": "markdown",
   "metadata": {},
   "source": [
    "***Initial Results:***\n",
    "- Based off of precision score, 74.4% of the instances predicted as positive are actually positive.\n",
    "- Based off of recall score, the model successfully identified 43.2% of all actual positive instances.\n",
    "- Based off of f1 score, 0.55 suggests that the model’s performance is moderate but needs improvement."
   ]
  },
  {
   "cell_type": "code",
   "execution_count": 196,
   "metadata": {},
   "outputs": [
    {
     "name": "stdout",
     "output_type": "stream",
     "text": [
      "(4804, 11)\n",
      "(1196, 11)\n",
      "(4804,)\n",
      "(1196,)\n"
     ]
    }
   ],
   "source": [
    "features_zeros = features_train[target_train == 0]\n",
    "features_ones = features_train[target_train == 1]\n",
    "target_zeros = target_train[target_train == 0]\n",
    "target_ones = target_train[target_train == 1]\n",
    "\n",
    "print(features_zeros.shape)\n",
    "print(features_ones.shape)\n",
    "print(target_zeros.shape)\n",
    "print(target_ones.shape)"
   ]
  },
  {
   "cell_type": "code",
   "execution_count": 197,
   "metadata": {},
   "outputs": [
    {
     "name": "stdout",
     "output_type": "stream",
     "text": [
      "3.859586600142552\n"
     ]
    }
   ],
   "source": [
    "print(5415/1403)"
   ]
  },
  {
   "cell_type": "markdown",
   "metadata": {},
   "source": [
    "***Balancing conclusion***\n",
    "- The intial balance is almost 4 to 1 , zeros to ones\n",
    "- to get the balancing close, multiply by 4"
   ]
  },
  {
   "cell_type": "code",
   "execution_count": 198,
   "metadata": {},
   "outputs": [
    {
     "data": {
      "text/plain": [
       "0    4804\n",
       "1    1196\n",
       "Name: Exited, dtype: int64"
      ]
     },
     "metadata": {},
     "output_type": "display_data"
    }
   ],
   "source": [
    "#finding the zeros and ones using value counts\n",
    "display(target_train.value_counts())"
   ]
  },
  {
   "cell_type": "markdown",
   "metadata": {},
   "source": [
    "## Data Balancing and Auc-Roc\n",
    "\n",
    "- How have you worked with the imbalance of classes?\n",
    "- Did you use at least two techniques for imbalance fixing?\n",
    "- Did you examine the AUC-ROC values?"
   ]
  },
  {
   "cell_type": "code",
   "execution_count": 199,
   "metadata": {},
   "outputs": [
    {
     "name": "stdout",
     "output_type": "stream",
     "text": [
      "F1: 0.5857359635811836\n",
      "auc_roc: 0.8441634052952172\n"
     ]
    }
   ],
   "source": [
    "#initial F1 with balanced class_weight\n",
    "\n",
    "model = RandomForestClassifier(random_state=12345, class_weight = 'balanced')\n",
    "model.fit(features_train, target_train)\n",
    "predicted_valid = model.predict(features_valid)\n",
    "print('F1:', f1_score(target_valid, predicted_valid))\n",
    "\n",
    "#initial auc roc\n",
    "probabilities_valid = model.predict_proba(features_valid)\n",
    "probabilities_one_valid = probabilities_valid[:, 1]\n",
    "auc_roc = roc_auc_score(target_valid,probabilities_one_valid)\n",
    "print('auc_roc:', auc_roc)"
   ]
  },
  {
   "cell_type": "code",
   "execution_count": 200,
   "metadata": {},
   "outputs": [],
   "source": [
    "# Function to upsample the data\n",
    "def upsample(features_train, target_train, repeat):\n",
    "    features_zeros = features_train[target_train == 0]\n",
    "    features_ones = features_train[target_train == 1]\n",
    "    target_zeros = target_train[target_train == 0]\n",
    "    target_ones = target_train[target_train == 1]\n",
    "\n",
    "    features_upsampled = pd.concat([features_zeros] + [features_ones] * repeat)\n",
    "    target_upsampled = pd.concat([target_zeros] + [target_ones] * repeat)\n",
    "\n",
    "    features_upsampled, target_upsampled = shuffle(\n",
    "        features_upsampled, target_upsampled, random_state=12345\n",
    "    )\n",
    "\n",
    "    return features_upsampled, target_upsampled"
   ]
  },
  {
   "cell_type": "code",
   "execution_count": 201,
   "metadata": {},
   "outputs": [],
   "source": [
    "# Upsample the training data\n",
    "features_upsampled, target_upsampled = upsample(\n",
    "    features_train, target_train, 4\n",
    ")"
   ]
  },
  {
   "cell_type": "code",
   "execution_count": 202,
   "metadata": {},
   "outputs": [
    {
     "name": "stdout",
     "output_type": "stream",
     "text": [
      "F1: 0.6007905138339921\n",
      "AUC-ROC: 0.8356495623612531\n"
     ]
    }
   ],
   "source": [
    "# Train a RandomForestClassifier on the upsampled data\n",
    "model = RandomForestClassifier(random_state=12345)\n",
    "model.fit(features_upsampled, target_upsampled)\n",
    "\n",
    "# Make predictions on the validation set\n",
    "predicted_valid = model.predict(features_valid)\n",
    "print('F1:', f1_score(target_valid, predicted_valid))\n",
    "\n",
    "# Calculate AUC-ROC on the validation set\n",
    "probabilities_valid = model.predict_proba(features_valid)\n",
    "probabilities_one_valid = probabilities_valid[:, 1]\n",
    "auc_roc = roc_auc_score(target_valid, probabilities_one_valid)\n",
    "print('AUC-ROC:', auc_roc)"
   ]
  },
  {
   "cell_type": "markdown",
   "metadata": {},
   "source": [
    "***Take away from upsampling and class_weight = 'balanced':***\n",
    "- The upsampled data improved the F1 score of the model (which focuses on correctly predicting the minority class) - But possibly overfitted due to the ones data being multiplied by 4 does not make the data exactly equally balanced \n",
    "- that slightly decreased the AUC-ROC which evaluates the model's ability to distinguish between the two classes\n",
    "\n"
   ]
  },
  {
   "cell_type": "code",
   "execution_count": 203,
   "metadata": {},
   "outputs": [
    {
     "name": "stdout",
     "output_type": "stream",
     "text": [
      "\n",
      "Best model: max_depth=4, min_samples_split=2, min_samples_leaf=3, criterion=entropy, n_estimators=100, max_features=auto\n",
      "Best accuracy: 0.798\n"
     ]
    }
   ],
   "source": [
    "# Initialize variables to keep track of the best model and accuracy\n",
    "best_result = 0  # Initialize to 0 since accuracy ranges from 0 to 1\n",
    "best_model = None\n",
    "\n",
    "# Loop over different tree depths\n",
    "for depth in range(1, 5):\n",
    "    # Loop over different values of min_samples_split\n",
    "    for min_samples_split in range(2, 3):\n",
    "        # Loop over different values of min_samples_leaf\n",
    "        for min_samples_leaf in range(3, 5):\n",
    "            # Loop over different criteria\n",
    "            for criterion in ['gini', 'entropy']:\n",
    "                # Loop over different numbers of estimators\n",
    "                for n_estimators in [50, 100]:\n",
    "                    # Loop over different max_features values\n",
    "                    for max_features in ['auto', 'sqrt', 'log2']:\n",
    "                        # Initialize and train the RandomForest model with the given parameters\n",
    "                        model = RandomForestClassifier(\n",
    "                            random_state=12345, \n",
    "                            max_depth=depth, \n",
    "                            min_samples_split=min_samples_split, \n",
    "                            min_samples_leaf=min_samples_leaf,\n",
    "                            criterion=criterion,\n",
    "                            n_estimators=n_estimators,\n",
    "                            max_features=max_features\n",
    "                        )\n",
    "                        model.fit(features_upsampled, target_upsampled)  # Train the model\n",
    "\n",
    "                        # Predict on the validation set\n",
    "                        predictions_valid = model.predict(features_valid)\n",
    "                        \n",
    "                        # Calculate accuracy on the validation set\n",
    "                        result = accuracy_score(target_valid, predictions_valid)\n",
    "                        \n",
    "                        # Update the best model and result if this one is better\n",
    "                        if result > best_result:\n",
    "                            best_model = model\n",
    "                            best_result = result\n",
    "\n",
    "                        # Print the accuracy for the current combination of parameters\n",
    "                        #print(f\"max_depth={depth}, min_samples_split={min_samples_split}, min_samples_leaf={min_samples_leaf}, criterion={criterion}, n_estimators={n_estimators}, max_features={max_features}: {result}\")\n",
    "\n",
    "# Print the best model and its accuracy\n",
    "print(f\"\\nBest model: max_depth={best_model.max_depth}, min_samples_split={best_model.min_samples_split}, min_samples_leaf={best_model.min_samples_leaf}, criterion={best_model.criterion}, n_estimators={best_model.n_estimators}, max_features={best_model.max_features}\")\n",
    "print(f\"Best accuracy: {best_result}\")"
   ]
  },
  {
   "cell_type": "code",
   "execution_count": 204,
   "metadata": {},
   "outputs": [
    {
     "name": "stdout",
     "output_type": "stream",
     "text": [
      "F1: 0.6046966731898239\n",
      "auc_roc: 0.844735783545751\n"
     ]
    }
   ],
   "source": [
    "#Final F1 and auc-roc with tuned hyper parameters\n",
    "\n",
    "model = RandomForestClassifier(random_state=12345, max_depth = 4, min_samples_split=2, min_samples_leaf=3, criterion='entropy', n_estimators=100, max_features='auto')\n",
    "model.fit(features_upsampled, target_upsampled) \n",
    "predicted_valid = model.predict(features_valid)\n",
    "print('F1:', f1_score(target_valid, predicted_valid))\n",
    "\n",
    "#initial auc roc\n",
    "probabilities_valid = model.predict_proba(features_valid)\n",
    "probabilities_one_valid = probabilities_valid[:, 1]\n",
    "auc_roc = roc_auc_score(target_valid,probabilities_one_valid)\n",
    "print('auc_roc:', auc_roc)"
   ]
  },
  {
   "cell_type": "markdown",
   "metadata": {},
   "source": [
    "***Final Model:***\n",
    "- The model with the tuned parameters delivered an improved F1 score of 0.604, and the AUC-ROC score reached 0.844.\n",
    "- These results outperform the earlier attempts using just class weight balancing or upsampling, showing that fine-tuning the hyperparameters was crucial in achieving better performance. \n",
    "- The F1 score indicates a stronger balance between precision and recall, while the AUC-ROC confirms that the model is better at distinguishing between the two classes."
   ]
  },
  {
   "cell_type": "markdown",
   "metadata": {},
   "source": [
    "***Conclusion:***\n",
    "- Used Balancedclass_weight and upscale to see which balanced the data the best. Both improved the F1 score but Upsampling did the best\n",
    "- Upsampling and using RandomForestClassifier achieved the minimum F1 score of 0.59\n",
    "- However, the upsampling decreased the auc-roc score slightly. Meaning the model performs better on precision and recall, its overall ability to discriminate between classes has been slightly affected.\n"
   ]
  },
  {
   "cell_type": "code",
   "execution_count": 205,
   "metadata": {},
   "outputs": [
    {
     "data": {
      "image/png": "[encoded data removed]",
      "text/plain": [
       "<Figure size 600x600 with 1 Axes>"
      ]
     },
     "metadata": {},
     "output_type": "display_data"
    }
   ],
   "source": [
    "probabilities_valid = model.predict_proba(features_valid)\n",
    "precision, recall, thresholds = precision_recall_curve(\n",
    "    target_valid, probabilities_valid[:, 1]\n",
    ")\n",
    "\n",
    "plt.figure(figsize=(6, 6))\n",
    "plt.step(recall, precision, where='post')\n",
    "plt.xlabel('Recall')\n",
    "plt.ylabel('Precision')\n",
    "plt.ylim([0.0, 1.05])\n",
    "plt.xlim([0.0, 1.0])\n",
    "plt.title('Precision-Recall Curve')\n",
    "plt.show()\n"
   ]
  },
  {
   "cell_type": "code",
   "execution_count": 206,
   "metadata": {},
   "outputs": [
    {
     "data": {
      "image/png": "[encoded data removed]",
      "text/plain": [
       "<Figure size 640x480 with 1 Axes>"
      ]
     },
     "metadata": {},
     "output_type": "display_data"
    }
   ],
   "source": [
    "probabilities_valid = model.predict_proba(features_valid)\n",
    "probabilities_one_valid = probabilities_valid[:, 1]\n",
    "\n",
    "\n",
    "fpr, tpr, thresholds = roc_curve(target_valid,probabilities_one_valid)\n",
    "\n",
    "\n",
    "plt.figure()\n",
    "plt.plot(fpr,tpr)\n",
    "# ROC curve for random model (looks like a straight line)\n",
    "plt.plot([0, 1], [0, 1], linestyle='--')\n",
    "plt.xlim([0,1])\n",
    "plt.ylim([0,1])\n",
    "plt.xlabel('False Positive Rate')\n",
    "plt.ylabel('True Positive Rate')\n",
    "plt.title('ROC curve')\n",
    "plt.show()"
   ]
  },
  {
   "cell_type": "markdown",
   "metadata": {},
   "source": [
    "- The model has a good ability to distinguish between the two classes based off of the auc roc score of 0.85"
   ]
  },
  {
   "cell_type": "markdown",
   "metadata": {},
   "source": [
    "***Test Data Trial***"
   ]
  },
  {
   "cell_type": "code",
   "execution_count": 207,
   "metadata": {},
   "outputs": [
    {
     "name": "stdout",
     "output_type": "stream",
     "text": [
      "F1 score on test data: 0.5909528392685275\n",
      "The F1 score meets the required threshold.\n",
      "AUC-ROC on test data: 0.837943787093128\n"
     ]
    }
   ],
   "source": [
    "# Predict on the test set\n",
    "predicted_test = best_model.predict(features_test)\n",
    "\n",
    "# Calculate F1 score on the test set\n",
    "f1_test = f1_score(target_test, predicted_test)\n",
    "print('F1 score on test data:', f1_test)\n",
    "\n",
    "# Check if it meets the requirement\n",
    "if f1_test >= 0.59:\n",
    "    print(\"The F1 score meets the required threshold.\")\n",
    "else:\n",
    "    print(\"The F1 score is below the required threshold.\")\n",
    "\n",
    "# calculate AUC-ROC on the test set\n",
    "probabilities_test = best_model.predict_proba(features_test)[:, 1]\n",
    "auc_roc_test = roc_auc_score(target_test, probabilities_test)\n",
    "print('AUC-ROC on test data:', auc_roc_test)"
   ]
  },
  {
   "cell_type": "markdown",
   "metadata": {},
   "source": [
    "## Conclusion\n",
    "\n",
    "- During the model training three different models were trialed intially, DecisionTreeClassifier, RandomForestClassifier, and LogisticRegression, to determine which would be best. RandomForestClassifier had the best intial results and was used further.\n",
    "- Then trialed two ways to balance the data by upscaling and using a balanced weight class, which resulted in upscaling iproving the model more.\n",
    "- Lastly, finding an auc roc score of 0.84 for the test set shows the model has a good ability to distiguish when a customer will leave the bank.\n"
   ]
  }
 ],
 "metadata": {
  "ExecuteTimeLog": [
   {
    "duration": 275,
    "start_time": "2024-08-30T20:16:46.473Z"
   },
   {
    "duration": 5,
    "start_time": "2024-08-30T20:17:19.918Z"
   },
   {
    "duration": 190,
    "start_time": "2024-08-30T20:17:27.609Z"
   },
   {
    "duration": 30,
    "start_time": "2024-08-30T20:17:40.558Z"
   },
   {
    "duration": 31,
    "start_time": "2024-08-30T20:18:04.412Z"
   },
   {
    "duration": 165,
    "start_time": "2024-09-04T14:28:29.941Z"
   },
   {
    "duration": 822,
    "start_time": "2024-09-04T14:28:35.753Z"
   },
   {
    "duration": 51,
    "start_time": "2024-09-04T14:28:36.579Z"
   },
   {
    "duration": 12,
    "start_time": "2024-09-04T14:28:36.632Z"
   },
   {
    "duration": 9,
    "start_time": "2024-09-04T14:29:48.176Z"
   },
   {
    "duration": 20,
    "start_time": "2024-09-04T14:30:10.937Z"
   },
   {
    "duration": 16,
    "start_time": "2024-09-04T14:30:56.862Z"
   },
   {
    "duration": 30,
    "start_time": "2024-09-04T14:31:18.090Z"
   },
   {
    "duration": 18,
    "start_time": "2024-09-04T14:31:26.613Z"
   },
   {
    "duration": 16,
    "start_time": "2024-09-04T14:32:11.324Z"
   },
   {
    "duration": 11,
    "start_time": "2024-09-04T14:32:24.741Z"
   },
   {
    "duration": 14,
    "start_time": "2024-09-04T14:32:37.108Z"
   },
   {
    "duration": 18,
    "start_time": "2024-09-04T14:32:44.096Z"
   },
   {
    "duration": 7,
    "start_time": "2024-09-04T14:33:22.337Z"
   },
   {
    "duration": 26,
    "start_time": "2024-09-04T14:33:25.381Z"
   },
   {
    "duration": 10,
    "start_time": "2024-09-04T14:33:58.010Z"
   },
   {
    "duration": 10,
    "start_time": "2024-09-04T14:34:03.333Z"
   },
   {
    "duration": 81,
    "start_time": "2024-09-04T14:35:41.379Z"
   },
   {
    "duration": 17,
    "start_time": "2024-09-04T14:35:47.233Z"
   },
   {
    "duration": 14,
    "start_time": "2024-09-04T14:36:47.920Z"
   },
   {
    "duration": 442,
    "start_time": "2024-09-04T14:37:08.070Z"
   },
   {
    "duration": 15,
    "start_time": "2024-09-04T14:37:46.699Z"
   },
   {
    "duration": 15,
    "start_time": "2024-09-04T14:38:07.429Z"
   },
   {
    "duration": 17,
    "start_time": "2024-09-04T14:38:17.454Z"
   },
   {
    "duration": 143,
    "start_time": "2024-09-04T14:38:40.710Z"
   },
   {
    "duration": 18,
    "start_time": "2024-09-04T14:38:46.998Z"
   },
   {
    "duration": 21,
    "start_time": "2024-09-04T14:39:25.811Z"
   },
   {
    "duration": 12,
    "start_time": "2024-09-04T14:41:25.610Z"
   },
   {
    "duration": 416,
    "start_time": "2024-09-04T14:43:31.517Z"
   },
   {
    "duration": 50,
    "start_time": "2024-09-04T14:43:37.841Z"
   },
   {
    "duration": 50,
    "start_time": "2024-09-04T14:43:49.314Z"
   },
   {
    "duration": 20,
    "start_time": "2024-09-04T14:44:28.592Z"
   },
   {
    "duration": 17,
    "start_time": "2024-09-04T14:44:49.334Z"
   },
   {
    "duration": 10,
    "start_time": "2024-09-04T14:44:57.560Z"
   },
   {
    "duration": 4,
    "start_time": "2024-09-04T15:09:29.280Z"
   },
   {
    "duration": 34,
    "start_time": "2024-09-04T15:10:02.500Z"
   },
   {
    "duration": 34,
    "start_time": "2024-09-04T15:10:47.630Z"
   },
   {
    "duration": 56,
    "start_time": "2024-09-04T15:15:02.508Z"
   },
   {
    "duration": 4,
    "start_time": "2024-09-04T15:17:09.581Z"
   },
   {
    "duration": 9,
    "start_time": "2024-09-04T15:28:09.906Z"
   },
   {
    "duration": 14,
    "start_time": "2024-09-04T15:28:28.001Z"
   },
   {
    "duration": 14,
    "start_time": "2024-09-04T15:30:02.455Z"
   },
   {
    "duration": 16,
    "start_time": "2024-09-04T15:32:22.699Z"
   },
   {
    "duration": 171,
    "start_time": "2024-09-04T15:32:52.005Z"
   },
   {
    "duration": 72,
    "start_time": "2024-09-04T15:33:41.735Z"
   },
   {
    "duration": 3,
    "start_time": "2024-09-04T15:34:36.339Z"
   },
   {
    "duration": 29,
    "start_time": "2024-09-04T15:34:36.346Z"
   },
   {
    "duration": 19,
    "start_time": "2024-09-04T15:34:36.377Z"
   },
   {
    "duration": 9,
    "start_time": "2024-09-04T15:34:36.397Z"
   },
   {
    "duration": 10,
    "start_time": "2024-09-04T15:34:36.409Z"
   },
   {
    "duration": 3,
    "start_time": "2024-09-04T15:34:36.421Z"
   },
   {
    "duration": 15,
    "start_time": "2024-09-04T15:34:36.426Z"
   },
   {
    "duration": 96,
    "start_time": "2024-09-04T15:34:36.443Z"
   },
   {
    "duration": 188,
    "start_time": "2024-09-04T18:34:25.864Z"
   },
   {
    "duration": 824,
    "start_time": "2024-09-04T18:34:31.984Z"
   },
   {
    "duration": 54,
    "start_time": "2024-09-04T18:34:32.810Z"
   },
   {
    "duration": 19,
    "start_time": "2024-09-04T18:34:32.866Z"
   },
   {
    "duration": 10,
    "start_time": "2024-09-04T18:34:32.886Z"
   },
   {
    "duration": 10,
    "start_time": "2024-09-04T18:34:32.897Z"
   },
   {
    "duration": 20,
    "start_time": "2024-09-04T18:34:32.908Z"
   },
   {
    "duration": 113,
    "start_time": "2024-09-04T18:34:32.932Z"
   },
   {
    "duration": 0,
    "start_time": "2024-09-04T18:34:33.047Z"
   },
   {
    "duration": 27,
    "start_time": "2024-09-04T18:34:48.250Z"
   },
   {
    "duration": 4,
    "start_time": "2024-09-04T18:35:23.692Z"
   },
   {
    "duration": 27,
    "start_time": "2024-09-04T18:35:23.698Z"
   },
   {
    "duration": 26,
    "start_time": "2024-09-04T18:35:23.727Z"
   },
   {
    "duration": 10,
    "start_time": "2024-09-04T18:35:23.761Z"
   },
   {
    "duration": 11,
    "start_time": "2024-09-04T18:35:23.773Z"
   },
   {
    "duration": 4,
    "start_time": "2024-09-04T18:35:23.785Z"
   },
   {
    "duration": 66,
    "start_time": "2024-09-04T18:35:23.790Z"
   },
   {
    "duration": 0,
    "start_time": "2024-09-04T18:35:23.858Z"
   },
   {
    "duration": 24,
    "start_time": "2024-09-04T18:35:49.277Z"
   },
   {
    "duration": 17,
    "start_time": "2024-09-04T18:36:07.082Z"
   },
   {
    "duration": 12,
    "start_time": "2024-09-04T18:36:21.466Z"
   },
   {
    "duration": 17,
    "start_time": "2024-09-04T18:36:31.107Z"
   },
   {
    "duration": 38,
    "start_time": "2024-09-04T18:36:39.267Z"
   },
   {
    "duration": 3,
    "start_time": "2024-09-04T18:40:22.672Z"
   },
   {
    "duration": 26,
    "start_time": "2024-09-04T18:40:22.680Z"
   },
   {
    "duration": 19,
    "start_time": "2024-09-04T18:40:22.708Z"
   },
   {
    "duration": 13,
    "start_time": "2024-09-04T18:40:22.730Z"
   },
   {
    "duration": 20,
    "start_time": "2024-09-04T18:40:22.744Z"
   },
   {
    "duration": 3,
    "start_time": "2024-09-04T18:40:22.767Z"
   },
   {
    "duration": 14,
    "start_time": "2024-09-04T18:40:22.771Z"
   },
   {
    "duration": 66,
    "start_time": "2024-09-04T18:40:22.787Z"
   },
   {
    "duration": 7,
    "start_time": "2024-09-04T18:40:22.855Z"
   },
   {
    "duration": 10,
    "start_time": "2024-09-04T18:44:39.282Z"
   },
   {
    "duration": 155,
    "start_time": "2024-09-04T19:50:37.381Z"
   },
   {
    "duration": 746,
    "start_time": "2024-09-04T19:50:42.695Z"
   },
   {
    "duration": 50,
    "start_time": "2024-09-04T19:50:43.445Z"
   },
   {
    "duration": 19,
    "start_time": "2024-09-04T19:50:43.497Z"
   },
   {
    "duration": 9,
    "start_time": "2024-09-04T19:50:43.518Z"
   },
   {
    "duration": 10,
    "start_time": "2024-09-04T19:50:43.528Z"
   },
   {
    "duration": 4,
    "start_time": "2024-09-04T19:50:43.540Z"
   },
   {
    "duration": 14,
    "start_time": "2024-09-04T19:50:43.545Z"
   },
   {
    "duration": 70,
    "start_time": "2024-09-04T19:50:43.561Z"
   },
   {
    "duration": 7,
    "start_time": "2024-09-04T19:50:43.632Z"
   },
   {
    "duration": 125,
    "start_time": "2024-09-04T19:50:43.641Z"
   },
   {
    "duration": 35,
    "start_time": "2024-09-04T19:51:34.518Z"
   },
   {
    "duration": 6,
    "start_time": "2024-09-04T19:58:52.088Z"
   },
   {
    "duration": 2,
    "start_time": "2024-09-04T19:59:32.256Z"
   },
   {
    "duration": 1855,
    "start_time": "2024-09-04T20:04:56.699Z"
   },
   {
    "duration": 29,
    "start_time": "2024-09-04T20:04:58.556Z"
   },
   {
    "duration": 30,
    "start_time": "2024-09-04T20:04:58.587Z"
   },
   {
    "duration": 10,
    "start_time": "2024-09-04T20:04:58.619Z"
   },
   {
    "duration": 10,
    "start_time": "2024-09-04T20:04:58.630Z"
   },
   {
    "duration": 4,
    "start_time": "2024-09-04T20:04:58.642Z"
   },
   {
    "duration": 14,
    "start_time": "2024-09-04T20:04:58.647Z"
   },
   {
    "duration": 67,
    "start_time": "2024-09-04T20:04:58.662Z"
   },
   {
    "duration": 5,
    "start_time": "2024-09-04T20:04:58.731Z"
   },
   {
    "duration": 6,
    "start_time": "2024-09-04T20:04:58.738Z"
   },
   {
    "duration": 3,
    "start_time": "2024-09-04T20:04:58.747Z"
   },
   {
    "duration": 60,
    "start_time": "2024-09-04T20:04:58.751Z"
   },
   {
    "duration": 36,
    "start_time": "2024-09-04T20:04:58.812Z"
   },
   {
    "duration": 61,
    "start_time": "2024-09-04T20:05:12.646Z"
   },
   {
    "duration": 53,
    "start_time": "2024-09-04T20:05:48.186Z"
   },
   {
    "duration": 61,
    "start_time": "2024-09-04T20:10:17.128Z"
   },
   {
    "duration": 34,
    "start_time": "2024-09-04T20:12:59.123Z"
   },
   {
    "duration": 33,
    "start_time": "2024-09-04T20:13:31.107Z"
   },
   {
    "duration": 32,
    "start_time": "2024-09-04T20:14:16.043Z"
   },
   {
    "duration": 4,
    "start_time": "2024-09-04T20:14:37.796Z"
   },
   {
    "duration": 28,
    "start_time": "2024-09-04T20:14:37.825Z"
   },
   {
    "duration": 18,
    "start_time": "2024-09-04T20:14:37.856Z"
   },
   {
    "duration": 9,
    "start_time": "2024-09-04T20:14:37.876Z"
   },
   {
    "duration": 18,
    "start_time": "2024-09-04T20:14:37.887Z"
   },
   {
    "duration": 4,
    "start_time": "2024-09-04T20:14:37.907Z"
   },
   {
    "duration": 14,
    "start_time": "2024-09-04T20:14:37.912Z"
   },
   {
    "duration": 38,
    "start_time": "2024-09-04T20:14:37.928Z"
   },
   {
    "duration": 9,
    "start_time": "2024-09-04T20:14:37.967Z"
   },
   {
    "duration": 30,
    "start_time": "2024-09-04T20:14:37.979Z"
   },
   {
    "duration": 3,
    "start_time": "2024-09-04T20:14:38.011Z"
   },
   {
    "duration": 39,
    "start_time": "2024-09-04T20:14:38.016Z"
   },
   {
    "duration": 86,
    "start_time": "2024-09-04T20:14:38.057Z"
   },
   {
    "duration": 105,
    "start_time": "2024-09-04T20:14:38.145Z"
   },
   {
    "duration": 83,
    "start_time": "2024-09-04T20:16:03.217Z"
   },
   {
    "duration": 210,
    "start_time": "2024-09-04T20:16:09.967Z"
   },
   {
    "duration": 40,
    "start_time": "2024-09-04T20:16:51.305Z"
   },
   {
    "duration": 598,
    "start_time": "2024-09-04T20:17:14.787Z"
   },
   {
    "duration": 60,
    "start_time": "2024-09-04T20:17:21.404Z"
   },
   {
    "duration": 37,
    "start_time": "2024-09-04T20:17:27.532Z"
   },
   {
    "duration": 193,
    "start_time": "2024-09-04T20:17:33.449Z"
   },
   {
    "duration": 4,
    "start_time": "2024-09-04T20:23:12.675Z"
   },
   {
    "duration": 30,
    "start_time": "2024-09-04T20:23:12.683Z"
   },
   {
    "duration": 24,
    "start_time": "2024-09-04T20:23:12.715Z"
   },
   {
    "duration": 9,
    "start_time": "2024-09-04T20:23:12.741Z"
   },
   {
    "duration": 10,
    "start_time": "2024-09-04T20:23:12.752Z"
   },
   {
    "duration": 4,
    "start_time": "2024-09-04T20:23:12.763Z"
   },
   {
    "duration": 53,
    "start_time": "2024-09-04T20:23:12.769Z"
   },
   {
    "duration": 46,
    "start_time": "2024-09-04T20:23:12.824Z"
   },
   {
    "duration": 7,
    "start_time": "2024-09-04T20:23:12.872Z"
   },
   {
    "duration": 24,
    "start_time": "2024-09-04T20:23:12.882Z"
   },
   {
    "duration": 3,
    "start_time": "2024-09-04T20:23:12.908Z"
   },
   {
    "duration": 41,
    "start_time": "2024-09-04T20:23:12.912Z"
   },
   {
    "duration": 74,
    "start_time": "2024-09-04T20:23:12.955Z"
   },
   {
    "duration": 221,
    "start_time": "2024-09-04T20:23:13.033Z"
   },
   {
    "duration": 39,
    "start_time": "2024-09-04T20:23:13.256Z"
   },
   {
    "duration": 61,
    "start_time": "2024-09-04T20:23:37.966Z"
   },
   {
    "duration": 66,
    "start_time": "2024-09-04T20:23:59.393Z"
   },
   {
    "duration": 3,
    "start_time": "2024-09-04T20:24:03.349Z"
   },
   {
    "duration": 39,
    "start_time": "2024-09-04T20:24:03.357Z"
   },
   {
    "duration": 20,
    "start_time": "2024-09-04T20:24:03.397Z"
   },
   {
    "duration": 11,
    "start_time": "2024-09-04T20:24:03.419Z"
   },
   {
    "duration": 13,
    "start_time": "2024-09-04T20:24:03.432Z"
   },
   {
    "duration": 4,
    "start_time": "2024-09-04T20:24:03.448Z"
   },
   {
    "duration": 18,
    "start_time": "2024-09-04T20:24:03.454Z"
   },
   {
    "duration": 68,
    "start_time": "2024-09-04T20:24:03.473Z"
   },
   {
    "duration": 6,
    "start_time": "2024-09-04T20:24:03.543Z"
   },
   {
    "duration": 7,
    "start_time": "2024-09-04T20:24:03.551Z"
   },
   {
    "duration": 3,
    "start_time": "2024-09-04T20:24:03.560Z"
   },
   {
    "duration": 59,
    "start_time": "2024-09-04T20:24:03.565Z"
   },
   {
    "duration": 65,
    "start_time": "2024-09-04T20:24:03.626Z"
   },
   {
    "duration": 212,
    "start_time": "2024-09-04T20:24:03.693Z"
   },
   {
    "duration": 43,
    "start_time": "2024-09-04T20:24:03.909Z"
   },
   {
    "duration": 3307,
    "start_time": "2024-09-04T20:25:48.530Z"
   },
   {
    "duration": 25,
    "start_time": "2024-09-04T20:26:29.487Z"
   },
   {
    "duration": 16,
    "start_time": "2024-09-04T20:28:45.476Z"
   },
   {
    "duration": 2,
    "start_time": "2024-09-04T20:28:49.838Z"
   },
   {
    "duration": 28,
    "start_time": "2024-09-04T20:28:49.842Z"
   },
   {
    "duration": 16,
    "start_time": "2024-09-04T20:28:49.872Z"
   },
   {
    "duration": 8,
    "start_time": "2024-09-04T20:28:49.890Z"
   },
   {
    "duration": 9,
    "start_time": "2024-09-04T20:28:49.900Z"
   },
   {
    "duration": 3,
    "start_time": "2024-09-04T20:28:49.910Z"
   },
   {
    "duration": 13,
    "start_time": "2024-09-04T20:28:49.915Z"
   },
   {
    "duration": 40,
    "start_time": "2024-09-04T20:28:49.930Z"
   },
   {
    "duration": 5,
    "start_time": "2024-09-04T20:28:49.972Z"
   },
   {
    "duration": 30,
    "start_time": "2024-09-04T20:28:49.979Z"
   },
   {
    "duration": 3,
    "start_time": "2024-09-04T20:28:50.011Z"
   },
   {
    "duration": 37,
    "start_time": "2024-09-04T20:28:50.015Z"
   },
   {
    "duration": 71,
    "start_time": "2024-09-04T20:28:50.054Z"
   },
   {
    "duration": 164429,
    "start_time": "2024-09-04T20:28:50.127Z"
   },
   {
    "duration": 25,
    "start_time": "2024-09-04T20:31:34.558Z"
   },
   {
    "duration": 41,
    "start_time": "2024-09-04T20:33:41.286Z"
   },
   {
    "duration": 31,
    "start_time": "2024-09-04T20:34:00.661Z"
   },
   {
    "duration": 3375,
    "start_time": "2024-09-04T20:34:03.643Z"
   },
   {
    "duration": 24,
    "start_time": "2024-09-04T20:36:51.254Z"
   },
   {
    "duration": 10,
    "start_time": "2024-09-04T20:36:56.829Z"
   },
   {
    "duration": 29,
    "start_time": "2024-09-04T20:36:56.842Z"
   },
   {
    "duration": 23,
    "start_time": "2024-09-04T20:36:56.873Z"
   },
   {
    "duration": 11,
    "start_time": "2024-09-04T20:36:56.897Z"
   },
   {
    "duration": 13,
    "start_time": "2024-09-04T20:36:56.910Z"
   },
   {
    "duration": 3,
    "start_time": "2024-09-04T20:36:56.925Z"
   },
   {
    "duration": 18,
    "start_time": "2024-09-04T20:36:56.930Z"
   },
   {
    "duration": 66,
    "start_time": "2024-09-04T20:36:56.950Z"
   },
   {
    "duration": 634,
    "start_time": "2024-09-04T20:36:57.018Z"
   },
   {
    "duration": 7,
    "start_time": "2024-09-04T20:36:57.658Z"
   },
   {
    "duration": 7,
    "start_time": "2024-09-04T20:36:57.666Z"
   },
   {
    "duration": 3,
    "start_time": "2024-09-04T20:36:57.675Z"
   },
   {
    "duration": 53,
    "start_time": "2024-09-04T20:36:57.680Z"
   },
   {
    "duration": 53,
    "start_time": "2024-09-04T20:36:57.737Z"
   },
   {
    "duration": 3357,
    "start_time": "2024-09-04T20:36:57.792Z"
   },
   {
    "duration": 26,
    "start_time": "2024-09-04T20:37:01.152Z"
   },
   {
    "duration": 22,
    "start_time": "2024-09-04T20:38:13.453Z"
   },
   {
    "duration": 4,
    "start_time": "2024-09-04T20:38:15.608Z"
   },
   {
    "duration": 29,
    "start_time": "2024-09-04T20:38:15.630Z"
   },
   {
    "duration": 23,
    "start_time": "2024-09-04T20:38:15.661Z"
   },
   {
    "duration": 19,
    "start_time": "2024-09-04T20:38:15.686Z"
   },
   {
    "duration": 14,
    "start_time": "2024-09-04T20:38:15.707Z"
   },
   {
    "duration": 3,
    "start_time": "2024-09-04T20:38:15.723Z"
   },
   {
    "duration": 14,
    "start_time": "2024-09-04T20:38:15.728Z"
   },
   {
    "duration": 63,
    "start_time": "2024-09-04T20:38:15.743Z"
   },
   {
    "duration": 628,
    "start_time": "2024-09-04T20:38:15.808Z"
   },
   {
    "duration": 91,
    "start_time": "2024-09-04T20:38:16.438Z"
   },
   {
    "duration": 6,
    "start_time": "2024-09-04T20:38:16.530Z"
   },
   {
    "duration": 6,
    "start_time": "2024-09-04T20:38:16.606Z"
   },
   {
    "duration": 2,
    "start_time": "2024-09-04T20:38:16.614Z"
   },
   {
    "duration": 89,
    "start_time": "2024-09-04T20:38:16.618Z"
   },
   {
    "duration": 54,
    "start_time": "2024-09-04T20:38:16.710Z"
   },
   {
    "duration": 3366,
    "start_time": "2024-09-04T20:38:16.766Z"
   },
   {
    "duration": 31,
    "start_time": "2024-09-04T20:38:20.134Z"
   },
   {
    "duration": 631,
    "start_time": "2024-09-04T20:39:01.658Z"
   },
   {
    "duration": 863,
    "start_time": "2024-09-04T20:39:14.576Z"
   },
   {
    "duration": 5,
    "start_time": "2024-09-04T20:40:09.937Z"
   },
   {
    "duration": 38,
    "start_time": "2024-09-04T20:40:09.944Z"
   },
   {
    "duration": 20,
    "start_time": "2024-09-04T20:40:09.984Z"
   },
   {
    "duration": 11,
    "start_time": "2024-09-04T20:40:10.006Z"
   },
   {
    "duration": 13,
    "start_time": "2024-09-04T20:40:10.020Z"
   },
   {
    "duration": 4,
    "start_time": "2024-09-04T20:40:10.036Z"
   },
   {
    "duration": 15,
    "start_time": "2024-09-04T20:40:10.042Z"
   },
   {
    "duration": 63,
    "start_time": "2024-09-04T20:40:10.058Z"
   },
   {
    "duration": 667,
    "start_time": "2024-09-04T20:40:10.123Z"
   },
   {
    "duration": 114,
    "start_time": "2024-09-04T20:40:10.792Z"
   },
   {
    "duration": 9,
    "start_time": "2024-09-04T20:40:10.908Z"
   },
   {
    "duration": 11,
    "start_time": "2024-09-04T20:40:10.919Z"
   },
   {
    "duration": 3,
    "start_time": "2024-09-04T20:40:10.933Z"
   },
   {
    "duration": 632,
    "start_time": "2024-09-04T20:40:11.007Z"
   },
   {
    "duration": 894,
    "start_time": "2024-09-04T20:40:11.641Z"
   },
   {
    "duration": 4,
    "start_time": "2024-09-04T20:46:30.034Z"
   },
   {
    "duration": 39,
    "start_time": "2024-09-04T20:46:30.041Z"
   },
   {
    "duration": 26,
    "start_time": "2024-09-04T20:46:30.082Z"
   },
   {
    "duration": 11,
    "start_time": "2024-09-04T20:46:30.110Z"
   },
   {
    "duration": 13,
    "start_time": "2024-09-04T20:46:30.124Z"
   },
   {
    "duration": 4,
    "start_time": "2024-09-04T20:46:30.139Z"
   },
   {
    "duration": 19,
    "start_time": "2024-09-04T20:46:30.145Z"
   },
   {
    "duration": 81,
    "start_time": "2024-09-04T20:46:30.166Z"
   },
   {
    "duration": 795,
    "start_time": "2024-09-04T20:46:30.250Z"
   },
   {
    "duration": 167,
    "start_time": "2024-09-04T20:46:31.047Z"
   },
   {
    "duration": 12,
    "start_time": "2024-09-04T20:46:31.220Z"
   },
   {
    "duration": 25,
    "start_time": "2024-09-04T20:46:31.238Z"
   },
   {
    "duration": 36,
    "start_time": "2024-09-04T20:46:31.271Z"
   },
   {
    "duration": 768,
    "start_time": "2024-09-04T20:46:31.311Z"
   },
   {
    "duration": 1116,
    "start_time": "2024-09-04T20:46:32.081Z"
   },
   {
    "duration": 211,
    "start_time": "2024-09-04T20:46:33.198Z"
   },
   {
    "duration": 181,
    "start_time": "2024-09-04T20:47:33.672Z"
   },
   {
    "duration": 23,
    "start_time": "2024-09-04T20:48:07.835Z"
   },
   {
    "duration": 7,
    "start_time": "2024-09-04T20:48:29.888Z"
   },
   {
    "duration": 42,
    "start_time": "2024-09-04T20:48:29.897Z"
   },
   {
    "duration": 23,
    "start_time": "2024-09-04T20:48:29.941Z"
   },
   {
    "duration": 11,
    "start_time": "2024-09-04T20:48:29.966Z"
   },
   {
    "duration": 30,
    "start_time": "2024-09-04T20:48:29.979Z"
   },
   {
    "duration": 4,
    "start_time": "2024-09-04T20:48:30.011Z"
   },
   {
    "duration": 22,
    "start_time": "2024-09-04T20:48:30.017Z"
   },
   {
    "duration": 48,
    "start_time": "2024-09-04T20:48:30.041Z"
   },
   {
    "duration": 796,
    "start_time": "2024-09-04T20:48:30.091Z"
   },
   {
    "duration": 249,
    "start_time": "2024-09-04T20:48:30.891Z"
   },
   {
    "duration": 56,
    "start_time": "2024-09-04T20:48:31.152Z"
   },
   {
    "duration": 9,
    "start_time": "2024-09-04T20:48:31.210Z"
   },
   {
    "duration": 4,
    "start_time": "2024-09-04T20:48:31.221Z"
   },
   {
    "duration": 797,
    "start_time": "2024-09-04T20:48:31.226Z"
   },
   {
    "duration": 1121,
    "start_time": "2024-09-04T20:48:32.025Z"
   },
   {
    "duration": 197,
    "start_time": "2024-09-04T20:48:33.149Z"
   },
   {
    "duration": 203,
    "start_time": "2024-09-04T20:48:33.348Z"
   },
   {
    "duration": 5,
    "start_time": "2024-09-04T20:48:33.555Z"
   },
   {
    "duration": 2671,
    "start_time": "2024-09-07T14:23:11.342Z"
   },
   {
    "duration": 42,
    "start_time": "2024-09-07T14:23:14.016Z"
   },
   {
    "duration": 18,
    "start_time": "2024-09-07T14:23:14.059Z"
   },
   {
    "duration": 8,
    "start_time": "2024-09-07T14:23:14.079Z"
   },
   {
    "duration": 9,
    "start_time": "2024-09-07T14:23:14.090Z"
   },
   {
    "duration": 23,
    "start_time": "2024-09-07T14:23:14.101Z"
   },
   {
    "duration": 15,
    "start_time": "2024-09-07T14:23:14.125Z"
   },
   {
    "duration": 39,
    "start_time": "2024-09-07T14:23:14.141Z"
   },
   {
    "duration": 145,
    "start_time": "2024-09-07T14:23:14.181Z"
   },
   {
    "duration": 685,
    "start_time": "2024-09-07T14:23:14.328Z"
   },
   {
    "duration": 11,
    "start_time": "2024-09-07T14:23:15.015Z"
   },
   {
    "duration": 6,
    "start_time": "2024-09-07T14:23:15.027Z"
   },
   {
    "duration": 2,
    "start_time": "2024-09-07T14:23:15.035Z"
   },
   {
    "duration": 604,
    "start_time": "2024-09-07T14:23:15.040Z"
   },
   {
    "duration": 846,
    "start_time": "2024-09-07T14:23:15.646Z"
   },
   {
    "duration": 146,
    "start_time": "2024-09-07T14:23:16.494Z"
   },
   {
    "duration": 138,
    "start_time": "2024-09-07T14:23:16.641Z"
   },
   {
    "duration": 4,
    "start_time": "2024-09-07T14:23:16.781Z"
   },
   {
    "duration": 9,
    "start_time": "2024-09-07T15:43:32.990Z"
   },
   {
    "duration": 162,
    "start_time": "2024-09-07T17:39:26.127Z"
   },
   {
    "duration": 14,
    "start_time": "2024-09-07T17:39:44.037Z"
   },
   {
    "duration": 2713,
    "start_time": "2024-09-07T17:39:54.166Z"
   },
   {
    "duration": 47,
    "start_time": "2024-09-07T17:39:56.880Z"
   },
   {
    "duration": 20,
    "start_time": "2024-09-07T17:39:56.929Z"
   },
   {
    "duration": 9,
    "start_time": "2024-09-07T17:39:56.951Z"
   },
   {
    "duration": 9,
    "start_time": "2024-09-07T17:39:56.963Z"
   },
   {
    "duration": 3,
    "start_time": "2024-09-07T17:39:56.973Z"
   },
   {
    "duration": 39,
    "start_time": "2024-09-07T17:39:56.978Z"
   },
   {
    "duration": 83,
    "start_time": "2024-09-07T17:39:57.019Z"
   },
   {
    "duration": 0,
    "start_time": "2024-09-07T17:39:57.105Z"
   },
   {
    "duration": 0,
    "start_time": "2024-09-07T17:39:57.111Z"
   },
   {
    "duration": 0,
    "start_time": "2024-09-07T17:39:57.113Z"
   },
   {
    "duration": 0,
    "start_time": "2024-09-07T17:39:57.115Z"
   },
   {
    "duration": 0,
    "start_time": "2024-09-07T17:39:57.116Z"
   },
   {
    "duration": 0,
    "start_time": "2024-09-07T17:39:57.117Z"
   },
   {
    "duration": 0,
    "start_time": "2024-09-07T17:39:57.118Z"
   },
   {
    "duration": 0,
    "start_time": "2024-09-07T17:39:57.120Z"
   },
   {
    "duration": 0,
    "start_time": "2024-09-07T17:39:57.121Z"
   },
   {
    "duration": 0,
    "start_time": "2024-09-07T17:39:57.122Z"
   },
   {
    "duration": 0,
    "start_time": "2024-09-07T17:39:57.123Z"
   },
   {
    "duration": 0,
    "start_time": "2024-09-07T17:39:57.124Z"
   },
   {
    "duration": 4,
    "start_time": "2024-09-07T17:43:26.225Z"
   },
   {
    "duration": 30,
    "start_time": "2024-09-07T17:43:26.231Z"
   },
   {
    "duration": 17,
    "start_time": "2024-09-07T17:43:26.263Z"
   },
   {
    "duration": 9,
    "start_time": "2024-09-07T17:43:26.282Z"
   },
   {
    "duration": 11,
    "start_time": "2024-09-07T17:43:26.312Z"
   },
   {
    "duration": 3,
    "start_time": "2024-09-07T17:43:26.326Z"
   },
   {
    "duration": 16,
    "start_time": "2024-09-07T17:43:26.332Z"
   },
   {
    "duration": 15,
    "start_time": "2024-09-07T17:43:26.350Z"
   },
   {
    "duration": 0,
    "start_time": "2024-09-07T17:43:26.367Z"
   },
   {
    "duration": 0,
    "start_time": "2024-09-07T17:43:26.369Z"
   },
   {
    "duration": 0,
    "start_time": "2024-09-07T17:43:26.371Z"
   },
   {
    "duration": 0,
    "start_time": "2024-09-07T17:43:26.412Z"
   },
   {
    "duration": 0,
    "start_time": "2024-09-07T17:43:26.414Z"
   },
   {
    "duration": 0,
    "start_time": "2024-09-07T17:43:26.415Z"
   },
   {
    "duration": 0,
    "start_time": "2024-09-07T17:43:26.416Z"
   },
   {
    "duration": 0,
    "start_time": "2024-09-07T17:43:26.417Z"
   },
   {
    "duration": 0,
    "start_time": "2024-09-07T17:43:26.418Z"
   },
   {
    "duration": 0,
    "start_time": "2024-09-07T17:43:26.419Z"
   },
   {
    "duration": 0,
    "start_time": "2024-09-07T17:43:26.420Z"
   },
   {
    "duration": 0,
    "start_time": "2024-09-07T17:43:26.422Z"
   },
   {
    "duration": 4,
    "start_time": "2024-09-07T17:46:53.264Z"
   },
   {
    "duration": 29,
    "start_time": "2024-09-07T17:46:53.270Z"
   },
   {
    "duration": 24,
    "start_time": "2024-09-07T17:46:53.301Z"
   },
   {
    "duration": 10,
    "start_time": "2024-09-07T17:46:53.327Z"
   },
   {
    "duration": 10,
    "start_time": "2024-09-07T17:46:53.340Z"
   },
   {
    "duration": 4,
    "start_time": "2024-09-07T17:46:53.351Z"
   },
   {
    "duration": 14,
    "start_time": "2024-09-07T17:46:53.356Z"
   },
   {
    "duration": 8,
    "start_time": "2024-09-07T17:46:53.793Z"
   },
   {
    "duration": 36,
    "start_time": "2024-09-07T17:46:53.803Z"
   },
   {
    "duration": 172,
    "start_time": "2024-09-07T17:46:53.841Z"
   },
   {
    "duration": 645,
    "start_time": "2024-09-07T17:46:54.015Z"
   },
   {
    "duration": 6,
    "start_time": "2024-09-07T17:46:54.662Z"
   },
   {
    "duration": 6,
    "start_time": "2024-09-07T17:46:54.670Z"
   },
   {
    "duration": 2,
    "start_time": "2024-09-07T17:46:54.678Z"
   },
   {
    "duration": 619,
    "start_time": "2024-09-07T17:46:54.682Z"
   },
   {
    "duration": 828,
    "start_time": "2024-09-07T17:46:55.303Z"
   },
   {
    "duration": 145,
    "start_time": "2024-09-07T17:46:56.133Z"
   },
   {
    "duration": 138,
    "start_time": "2024-09-07T17:46:56.280Z"
   },
   {
    "duration": 5,
    "start_time": "2024-09-07T17:46:56.420Z"
   },
   {
    "duration": 566,
    "start_time": "2024-09-07T17:52:19.022Z"
   },
   {
    "duration": 7,
    "start_time": "2024-09-07T17:53:18.404Z"
   },
   {
    "duration": 20,
    "start_time": "2024-09-07T17:56:49.045Z"
   },
   {
    "duration": 97,
    "start_time": "2024-09-07T17:57:00.259Z"
   },
   {
    "duration": 20,
    "start_time": "2024-09-07T17:58:06.029Z"
   },
   {
    "duration": 20,
    "start_time": "2024-09-07T17:58:38.711Z"
   },
   {
    "duration": 16,
    "start_time": "2024-09-07T18:04:04.652Z"
   },
   {
    "duration": 5,
    "start_time": "2024-09-07T18:05:25.096Z"
   },
   {
    "duration": 627,
    "start_time": "2024-09-07T18:14:57.308Z"
   },
   {
    "duration": 610,
    "start_time": "2024-09-07T18:15:29.309Z"
   },
   {
    "duration": 9,
    "start_time": "2024-09-07T18:16:31.806Z"
   },
   {
    "duration": 51,
    "start_time": "2024-09-07T18:16:31.817Z"
   },
   {
    "duration": 18,
    "start_time": "2024-09-07T18:16:31.870Z"
   },
   {
    "duration": 9,
    "start_time": "2024-09-07T18:16:31.890Z"
   },
   {
    "duration": 40,
    "start_time": "2024-09-07T18:16:31.900Z"
   },
   {
    "duration": 4,
    "start_time": "2024-09-07T18:16:31.942Z"
   },
   {
    "duration": 14,
    "start_time": "2024-09-07T18:16:31.948Z"
   },
   {
    "duration": 7,
    "start_time": "2024-09-07T18:16:31.964Z"
   },
   {
    "duration": 31,
    "start_time": "2024-09-07T18:16:31.974Z"
   },
   {
    "duration": 134,
    "start_time": "2024-09-07T18:16:32.009Z"
   },
   {
    "duration": 702,
    "start_time": "2024-09-07T18:16:32.147Z"
   },
   {
    "duration": 5,
    "start_time": "2024-09-07T18:16:32.851Z"
   },
   {
    "duration": 6,
    "start_time": "2024-09-07T18:16:32.858Z"
   },
   {
    "duration": 3,
    "start_time": "2024-09-07T18:16:32.865Z"
   },
   {
    "duration": 5,
    "start_time": "2024-09-07T18:16:32.870Z"
   },
   {
    "duration": 663,
    "start_time": "2024-09-07T18:16:32.876Z"
   },
   {
    "duration": 901,
    "start_time": "2024-09-07T18:16:33.544Z"
   },
   {
    "duration": 143,
    "start_time": "2024-09-07T18:16:34.446Z"
   },
   {
    "duration": 180,
    "start_time": "2024-09-07T18:16:34.591Z"
   },
   {
    "duration": 5,
    "start_time": "2024-09-07T18:16:34.774Z"
   },
   {
    "duration": 917,
    "start_time": "2024-09-07T18:17:06.442Z"
   },
   {
    "duration": 152,
    "start_time": "2024-09-07T18:19:11.111Z"
   },
   {
    "duration": 790449,
    "start_time": "2024-09-07T18:27:21.409Z"
   },
   {
    "duration": 0,
    "start_time": "2024-09-07T20:13:00.587Z"
   },
   {
    "duration": 0,
    "start_time": "2024-09-07T20:13:00.588Z"
   },
   {
    "duration": 0,
    "start_time": "2024-09-07T20:13:00.589Z"
   },
   {
    "duration": 0,
    "start_time": "2024-09-07T20:13:00.590Z"
   },
   {
    "duration": 0,
    "start_time": "2024-09-07T20:13:00.592Z"
   },
   {
    "duration": 0,
    "start_time": "2024-09-07T20:13:00.593Z"
   },
   {
    "duration": 0,
    "start_time": "2024-09-07T20:13:00.594Z"
   },
   {
    "duration": 0,
    "start_time": "2024-09-07T20:13:00.596Z"
   },
   {
    "duration": 0,
    "start_time": "2024-09-07T20:13:00.611Z"
   },
   {
    "duration": 0,
    "start_time": "2024-09-07T20:13:00.612Z"
   },
   {
    "duration": 0,
    "start_time": "2024-09-07T20:13:00.613Z"
   },
   {
    "duration": 0,
    "start_time": "2024-09-07T20:13:00.614Z"
   },
   {
    "duration": 0,
    "start_time": "2024-09-07T20:13:00.616Z"
   },
   {
    "duration": 0,
    "start_time": "2024-09-07T20:13:00.617Z"
   },
   {
    "duration": 0,
    "start_time": "2024-09-07T20:13:00.618Z"
   },
   {
    "duration": 0,
    "start_time": "2024-09-07T20:13:00.619Z"
   },
   {
    "duration": 0,
    "start_time": "2024-09-07T20:13:00.621Z"
   },
   {
    "duration": 0,
    "start_time": "2024-09-07T20:13:00.622Z"
   },
   {
    "duration": 0,
    "start_time": "2024-09-07T20:13:00.623Z"
   },
   {
    "duration": 9,
    "start_time": "2024-09-07T20:13:25.824Z"
   },
   {
    "duration": 35,
    "start_time": "2024-09-07T20:13:25.835Z"
   },
   {
    "duration": 17,
    "start_time": "2024-09-07T20:13:25.872Z"
   },
   {
    "duration": 8,
    "start_time": "2024-09-07T20:13:25.892Z"
   },
   {
    "duration": 42,
    "start_time": "2024-09-07T20:13:25.901Z"
   },
   {
    "duration": 4,
    "start_time": "2024-09-07T20:13:25.945Z"
   },
   {
    "duration": 14,
    "start_time": "2024-09-07T20:13:25.951Z"
   },
   {
    "duration": 7,
    "start_time": "2024-09-07T20:13:25.966Z"
   },
   {
    "duration": 40,
    "start_time": "2024-09-07T20:13:25.975Z"
   },
   {
    "duration": 123,
    "start_time": "2024-09-07T20:13:26.018Z"
   },
   {
    "duration": 728,
    "start_time": "2024-09-07T20:13:26.143Z"
   },
   {
    "duration": 6,
    "start_time": "2024-09-07T20:13:26.873Z"
   },
   {
    "duration": 7,
    "start_time": "2024-09-07T20:13:26.880Z"
   },
   {
    "duration": 3,
    "start_time": "2024-09-07T20:13:26.888Z"
   },
   {
    "duration": 5,
    "start_time": "2024-09-07T20:13:26.911Z"
   },
   {
    "duration": 654,
    "start_time": "2024-09-07T20:13:26.918Z"
   },
   {
    "duration": 421601,
    "start_time": "2024-09-07T20:13:27.574Z"
   },
   {
    "duration": 0,
    "start_time": "2024-09-07T20:20:29.177Z"
   },
   {
    "duration": 0,
    "start_time": "2024-09-07T20:20:29.179Z"
   },
   {
    "duration": 4,
    "start_time": "2024-09-07T20:22:13.157Z"
   },
   {
    "duration": 29,
    "start_time": "2024-09-07T20:22:13.163Z"
   },
   {
    "duration": 22,
    "start_time": "2024-09-07T20:22:13.193Z"
   },
   {
    "duration": 18,
    "start_time": "2024-09-07T20:22:13.216Z"
   },
   {
    "duration": 15,
    "start_time": "2024-09-07T20:22:13.238Z"
   },
   {
    "duration": 3,
    "start_time": "2024-09-07T20:22:13.255Z"
   },
   {
    "duration": 14,
    "start_time": "2024-09-07T20:22:13.260Z"
   },
   {
    "duration": 6,
    "start_time": "2024-09-07T20:22:13.276Z"
   },
   {
    "duration": 74,
    "start_time": "2024-09-07T20:22:13.285Z"
   },
   {
    "duration": 195,
    "start_time": "2024-09-07T20:22:13.360Z"
   },
   {
    "duration": 731,
    "start_time": "2024-09-07T20:22:13.557Z"
   },
   {
    "duration": 6,
    "start_time": "2024-09-07T20:22:14.290Z"
   },
   {
    "duration": 18,
    "start_time": "2024-09-07T20:22:14.297Z"
   },
   {
    "duration": 11,
    "start_time": "2024-09-07T20:22:14.328Z"
   },
   {
    "duration": 4,
    "start_time": "2024-09-07T20:22:14.342Z"
   },
   {
    "duration": 646,
    "start_time": "2024-09-07T20:22:14.348Z"
   },
   {
    "duration": 5,
    "start_time": "2024-09-07T20:22:14.995Z"
   },
   {
    "duration": 26,
    "start_time": "2024-09-07T20:22:15.002Z"
   },
   {
    "duration": 583945,
    "start_time": "2024-09-07T20:22:15.030Z"
   },
   {
    "duration": 0,
    "start_time": "2024-09-07T20:31:58.978Z"
   },
   {
    "duration": 0,
    "start_time": "2024-09-07T20:31:58.979Z"
   },
   {
    "duration": 0,
    "start_time": "2024-09-07T20:31:58.980Z"
   },
   {
    "duration": 100097,
    "start_time": "2024-09-07T20:33:00.393Z"
   },
   {
    "duration": 61763,
    "start_time": "2024-09-07T20:34:55.874Z"
   },
   {
    "duration": 86,
    "start_time": "2024-09-07T20:36:04.867Z"
   },
   {
    "duration": 671,
    "start_time": "2024-09-07T20:37:58.036Z"
   },
   {
    "duration": 157,
    "start_time": "2024-09-07T20:38:41.424Z"
   },
   {
    "duration": 143,
    "start_time": "2024-09-07T20:38:44.440Z"
   },
   {
    "duration": 211913,
    "start_time": "2024-09-07T20:41:27.785Z"
   },
   {
    "duration": 3130,
    "start_time": "2024-09-07T21:24:30.759Z"
   },
   {
    "duration": 60,
    "start_time": "2024-09-07T21:24:33.891Z"
   },
   {
    "duration": 18,
    "start_time": "2024-09-07T21:24:33.952Z"
   },
   {
    "duration": 9,
    "start_time": "2024-09-07T21:24:33.972Z"
   },
   {
    "duration": 9,
    "start_time": "2024-09-07T21:24:33.984Z"
   },
   {
    "duration": 16,
    "start_time": "2024-09-07T21:24:34.016Z"
   },
   {
    "duration": 19,
    "start_time": "2024-09-07T21:24:34.034Z"
   },
   {
    "duration": 6,
    "start_time": "2024-09-07T21:24:34.055Z"
   },
   {
    "duration": 31,
    "start_time": "2024-09-07T21:24:34.063Z"
   },
   {
    "duration": 146,
    "start_time": "2024-09-07T21:24:34.096Z"
   },
   {
    "duration": 751,
    "start_time": "2024-09-07T21:24:34.244Z"
   },
   {
    "duration": 27,
    "start_time": "2024-09-07T21:24:34.997Z"
   },
   {
    "duration": 17,
    "start_time": "2024-09-07T21:24:35.026Z"
   },
   {
    "duration": 4,
    "start_time": "2024-09-07T21:24:35.048Z"
   },
   {
    "duration": 5,
    "start_time": "2024-09-07T21:24:35.054Z"
   },
   {
    "duration": 655,
    "start_time": "2024-09-07T21:24:35.060Z"
   },
   {
    "duration": 5,
    "start_time": "2024-09-07T21:24:35.719Z"
   },
   {
    "duration": 14,
    "start_time": "2024-09-07T21:24:35.726Z"
   },
   {
    "duration": 212125,
    "start_time": "2024-09-07T21:24:35.745Z"
   },
   {
    "duration": 82,
    "start_time": "2024-09-07T21:28:07.872Z"
   },
   {
    "duration": 688,
    "start_time": "2024-09-07T21:28:07.955Z"
   },
   {
    "duration": 154,
    "start_time": "2024-09-07T21:28:08.645Z"
   },
   {
    "duration": 153,
    "start_time": "2024-09-07T21:28:08.801Z"
   },
   {
    "duration": 7,
    "start_time": "2024-09-07T21:30:00.687Z"
   },
   {
    "duration": 4,
    "start_time": "2024-09-07T21:30:03.747Z"
   },
   {
    "duration": 30,
    "start_time": "2024-09-07T21:30:03.753Z"
   },
   {
    "duration": 15,
    "start_time": "2024-09-07T21:30:03.785Z"
   },
   {
    "duration": 21,
    "start_time": "2024-09-07T21:30:03.802Z"
   },
   {
    "duration": 17,
    "start_time": "2024-09-07T21:30:03.826Z"
   },
   {
    "duration": 4,
    "start_time": "2024-09-07T21:30:03.844Z"
   },
   {
    "duration": 16,
    "start_time": "2024-09-07T21:30:03.849Z"
   },
   {
    "duration": 7,
    "start_time": "2024-09-07T21:30:03.866Z"
   },
   {
    "duration": 62,
    "start_time": "2024-09-07T21:30:03.877Z"
   },
   {
    "duration": 175,
    "start_time": "2024-09-07T21:30:03.941Z"
   },
   {
    "duration": 732,
    "start_time": "2024-09-07T21:30:04.119Z"
   },
   {
    "duration": 5,
    "start_time": "2024-09-07T21:30:04.853Z"
   },
   {
    "duration": 6,
    "start_time": "2024-09-07T21:30:04.860Z"
   },
   {
    "duration": 3,
    "start_time": "2024-09-07T21:30:04.870Z"
   },
   {
    "duration": 4,
    "start_time": "2024-09-07T21:30:04.874Z"
   },
   {
    "duration": 678,
    "start_time": "2024-09-07T21:30:04.880Z"
   },
   {
    "duration": 4,
    "start_time": "2024-09-07T21:30:05.560Z"
   },
   {
    "duration": 9,
    "start_time": "2024-09-07T21:30:05.565Z"
   },
   {
    "duration": 211588,
    "start_time": "2024-09-07T21:30:05.575Z"
   },
   {
    "duration": 147,
    "start_time": "2024-09-07T21:33:37.165Z"
   },
   {
    "duration": 621,
    "start_time": "2024-09-07T21:33:37.315Z"
   },
   {
    "duration": 162,
    "start_time": "2024-09-07T21:33:37.939Z"
   },
   {
    "duration": 142,
    "start_time": "2024-09-07T21:33:38.104Z"
   },
   {
    "duration": 7,
    "start_time": "2024-09-07T21:34:09.033Z"
   },
   {
    "duration": 1312,
    "start_time": "2024-09-07T21:34:25.655Z"
   },
   {
    "duration": 0,
    "start_time": "2024-09-07T21:45:05.969Z"
   },
   {
    "duration": 0,
    "start_time": "2024-09-07T21:46:21.688Z"
   },
   {
    "duration": 0,
    "start_time": "2024-09-07T21:46:21.689Z"
   },
   {
    "duration": 0,
    "start_time": "2024-09-07T21:46:21.690Z"
   },
   {
    "duration": 0,
    "start_time": "2024-09-07T21:46:21.691Z"
   },
   {
    "duration": 0,
    "start_time": "2024-09-07T21:46:21.692Z"
   },
   {
    "duration": 0,
    "start_time": "2024-09-07T21:46:21.693Z"
   },
   {
    "duration": 0,
    "start_time": "2024-09-07T21:46:21.694Z"
   },
   {
    "duration": 0,
    "start_time": "2024-09-07T21:46:21.719Z"
   },
   {
    "duration": 0,
    "start_time": "2024-09-07T21:46:21.720Z"
   },
   {
    "duration": 0,
    "start_time": "2024-09-07T21:46:21.721Z"
   },
   {
    "duration": 0,
    "start_time": "2024-09-07T21:46:21.722Z"
   },
   {
    "duration": 0,
    "start_time": "2024-09-07T21:46:21.723Z"
   },
   {
    "duration": 0,
    "start_time": "2024-09-07T21:46:21.732Z"
   },
   {
    "duration": 0,
    "start_time": "2024-09-07T21:46:21.733Z"
   },
   {
    "duration": 0,
    "start_time": "2024-09-07T21:46:21.739Z"
   },
   {
    "duration": 0,
    "start_time": "2024-09-07T21:46:21.740Z"
   },
   {
    "duration": 0,
    "start_time": "2024-09-07T21:46:21.741Z"
   },
   {
    "duration": 0,
    "start_time": "2024-09-07T21:46:21.743Z"
   },
   {
    "duration": 0,
    "start_time": "2024-09-07T21:46:21.744Z"
   },
   {
    "duration": 0,
    "start_time": "2024-09-07T21:46:21.745Z"
   },
   {
    "duration": 0,
    "start_time": "2024-09-07T21:46:21.746Z"
   },
   {
    "duration": 0,
    "start_time": "2024-09-07T21:46:21.747Z"
   },
   {
    "duration": 0,
    "start_time": "2024-09-07T21:46:21.748Z"
   },
   {
    "duration": 5,
    "start_time": "2024-09-07T21:46:25.037Z"
   },
   {
    "duration": 27,
    "start_time": "2024-09-07T21:46:25.048Z"
   },
   {
    "duration": 19,
    "start_time": "2024-09-07T21:46:25.079Z"
   },
   {
    "duration": 17,
    "start_time": "2024-09-07T21:46:25.102Z"
   },
   {
    "duration": 16,
    "start_time": "2024-09-07T21:46:25.121Z"
   },
   {
    "duration": 5,
    "start_time": "2024-09-07T21:46:25.143Z"
   },
   {
    "duration": 16,
    "start_time": "2024-09-07T21:46:25.153Z"
   },
   {
    "duration": 6,
    "start_time": "2024-09-07T21:46:25.171Z"
   },
   {
    "duration": 64,
    "start_time": "2024-09-07T21:46:25.179Z"
   },
   {
    "duration": 80,
    "start_time": "2024-09-07T21:46:25.246Z"
   },
   {
    "duration": 715,
    "start_time": "2024-09-07T21:46:25.328Z"
   },
   {
    "duration": 7,
    "start_time": "2024-09-07T21:46:26.045Z"
   },
   {
    "duration": 6,
    "start_time": "2024-09-07T21:46:26.054Z"
   },
   {
    "duration": 3,
    "start_time": "2024-09-07T21:46:26.062Z"
   },
   {
    "duration": 4,
    "start_time": "2024-09-07T21:46:26.068Z"
   },
   {
    "duration": 688,
    "start_time": "2024-09-07T21:46:26.074Z"
   },
   {
    "duration": 4,
    "start_time": "2024-09-07T21:46:26.764Z"
   },
   {
    "duration": 8,
    "start_time": "2024-09-07T21:46:26.770Z"
   },
   {
    "duration": 0,
    "start_time": "2024-09-07T21:52:37.028Z"
   },
   {
    "duration": 0,
    "start_time": "2024-09-07T21:52:37.029Z"
   },
   {
    "duration": 0,
    "start_time": "2024-09-07T21:52:37.030Z"
   },
   {
    "duration": 0,
    "start_time": "2024-09-07T21:52:37.035Z"
   },
   {
    "duration": 0,
    "start_time": "2024-09-07T21:52:37.036Z"
   },
   {
    "duration": 0,
    "start_time": "2024-09-07T21:57:51.600Z"
   },
   {
    "duration": 0,
    "start_time": "2024-09-07T21:59:05.450Z"
   },
   {
    "duration": 0,
    "start_time": "2024-09-07T21:59:05.451Z"
   },
   {
    "duration": 0,
    "start_time": "2024-09-07T21:59:05.452Z"
   },
   {
    "duration": 0,
    "start_time": "2024-09-07T21:59:05.453Z"
   },
   {
    "duration": 0,
    "start_time": "2024-09-07T21:59:05.454Z"
   },
   {
    "duration": 0,
    "start_time": "2024-09-07T21:59:05.456Z"
   },
   {
    "duration": 1,
    "start_time": "2024-09-07T21:59:05.457Z"
   },
   {
    "duration": 0,
    "start_time": "2024-09-07T21:59:05.459Z"
   },
   {
    "duration": 0,
    "start_time": "2024-09-07T21:59:05.460Z"
   },
   {
    "duration": 0,
    "start_time": "2024-09-07T21:59:05.462Z"
   },
   {
    "duration": 0,
    "start_time": "2024-09-07T21:59:05.462Z"
   },
   {
    "duration": 0,
    "start_time": "2024-09-07T21:59:05.464Z"
   },
   {
    "duration": 0,
    "start_time": "2024-09-07T21:59:05.465Z"
   },
   {
    "duration": 0,
    "start_time": "2024-09-07T21:59:05.466Z"
   },
   {
    "duration": 0,
    "start_time": "2024-09-07T21:59:05.467Z"
   },
   {
    "duration": 0,
    "start_time": "2024-09-07T21:59:05.468Z"
   },
   {
    "duration": 0,
    "start_time": "2024-09-07T21:59:05.469Z"
   },
   {
    "duration": 0,
    "start_time": "2024-09-07T21:59:05.470Z"
   },
   {
    "duration": 0,
    "start_time": "2024-09-07T21:59:05.472Z"
   },
   {
    "duration": 0,
    "start_time": "2024-09-07T21:59:05.473Z"
   },
   {
    "duration": 0,
    "start_time": "2024-09-07T21:59:05.474Z"
   },
   {
    "duration": 0,
    "start_time": "2024-09-07T21:59:05.475Z"
   },
   {
    "duration": 0,
    "start_time": "2024-09-07T21:59:05.476Z"
   },
   {
    "duration": 13,
    "start_time": "2024-09-07T21:59:07.122Z"
   },
   {
    "duration": 29,
    "start_time": "2024-09-07T21:59:07.141Z"
   },
   {
    "duration": 16,
    "start_time": "2024-09-07T21:59:07.172Z"
   },
   {
    "duration": 9,
    "start_time": "2024-09-07T21:59:07.190Z"
   },
   {
    "duration": 28,
    "start_time": "2024-09-07T21:59:07.202Z"
   },
   {
    "duration": 5,
    "start_time": "2024-09-07T21:59:07.232Z"
   },
   {
    "duration": 17,
    "start_time": "2024-09-07T21:59:07.240Z"
   },
   {
    "duration": 7,
    "start_time": "2024-09-07T21:59:07.259Z"
   },
   {
    "duration": 64,
    "start_time": "2024-09-07T21:59:07.267Z"
   },
   {
    "duration": 91,
    "start_time": "2024-09-07T21:59:07.340Z"
   },
   {
    "duration": 723,
    "start_time": "2024-09-07T21:59:07.433Z"
   },
   {
    "duration": 6,
    "start_time": "2024-09-07T21:59:08.158Z"
   },
   {
    "duration": 6,
    "start_time": "2024-09-07T21:59:08.166Z"
   },
   {
    "duration": 3,
    "start_time": "2024-09-07T21:59:08.175Z"
   },
   {
    "duration": 6,
    "start_time": "2024-09-07T21:59:08.179Z"
   },
   {
    "duration": 688,
    "start_time": "2024-09-07T21:59:08.186Z"
   },
   {
    "duration": 3,
    "start_time": "2024-09-07T21:59:08.877Z"
   },
   {
    "duration": 12,
    "start_time": "2024-09-07T21:59:08.882Z"
   },
   {
    "duration": 24431,
    "start_time": "2024-09-07T21:59:08.896Z"
   },
   {
    "duration": 0,
    "start_time": "2024-09-07T21:59:33.330Z"
   },
   {
    "duration": 0,
    "start_time": "2024-09-07T21:59:33.331Z"
   },
   {
    "duration": 0,
    "start_time": "2024-09-07T21:59:33.332Z"
   },
   {
    "duration": 0,
    "start_time": "2024-09-07T21:59:33.334Z"
   },
   {
    "duration": 3,
    "start_time": "2024-09-07T21:59:34.892Z"
   },
   {
    "duration": 57,
    "start_time": "2024-09-07T21:59:34.897Z"
   },
   {
    "duration": 18,
    "start_time": "2024-09-07T21:59:34.956Z"
   },
   {
    "duration": 10,
    "start_time": "2024-09-07T21:59:34.976Z"
   },
   {
    "duration": 10,
    "start_time": "2024-09-07T21:59:34.989Z"
   },
   {
    "duration": 29,
    "start_time": "2024-09-07T21:59:35.001Z"
   },
   {
    "duration": 16,
    "start_time": "2024-09-07T21:59:35.039Z"
   },
   {
    "duration": 7,
    "start_time": "2024-09-07T21:59:35.057Z"
   },
   {
    "duration": 31,
    "start_time": "2024-09-07T21:59:35.066Z"
   },
   {
    "duration": 250,
    "start_time": "2024-09-07T21:59:35.099Z"
   },
   {
    "duration": 729,
    "start_time": "2024-09-07T21:59:35.351Z"
   },
   {
    "duration": 6,
    "start_time": "2024-09-07T21:59:36.082Z"
   },
   {
    "duration": 6,
    "start_time": "2024-09-07T21:59:36.089Z"
   },
   {
    "duration": 5,
    "start_time": "2024-09-07T21:59:36.113Z"
   },
   {
    "duration": 11,
    "start_time": "2024-09-07T21:59:36.120Z"
   },
   {
    "duration": 652,
    "start_time": "2024-09-07T21:59:36.133Z"
   },
   {
    "duration": 4,
    "start_time": "2024-09-07T21:59:36.787Z"
   },
   {
    "duration": 34,
    "start_time": "2024-09-07T21:59:36.793Z"
   },
   {
    "duration": 0,
    "start_time": "2024-09-07T22:01:05.261Z"
   },
   {
    "duration": 0,
    "start_time": "2024-09-07T22:01:05.262Z"
   },
   {
    "duration": 0,
    "start_time": "2024-09-07T22:01:05.263Z"
   },
   {
    "duration": 0,
    "start_time": "2024-09-07T22:01:05.265Z"
   },
   {
    "duration": 0,
    "start_time": "2024-09-07T22:01:05.266Z"
   },
   {
    "duration": 4,
    "start_time": "2024-09-07T22:01:07.041Z"
   },
   {
    "duration": 28,
    "start_time": "2024-09-07T22:01:07.047Z"
   },
   {
    "duration": 18,
    "start_time": "2024-09-07T22:01:07.076Z"
   },
   {
    "duration": 10,
    "start_time": "2024-09-07T22:01:07.097Z"
   },
   {
    "duration": 27,
    "start_time": "2024-09-07T22:01:07.109Z"
   },
   {
    "duration": 5,
    "start_time": "2024-09-07T22:01:07.138Z"
   },
   {
    "duration": 14,
    "start_time": "2024-09-07T22:01:07.145Z"
   },
   {
    "duration": 6,
    "start_time": "2024-09-07T22:01:07.160Z"
   },
   {
    "duration": 53,
    "start_time": "2024-09-07T22:01:07.168Z"
   },
   {
    "duration": 290,
    "start_time": "2024-09-07T22:01:07.227Z"
   },
   {
    "duration": 718,
    "start_time": "2024-09-07T22:01:07.525Z"
   },
   {
    "duration": 7,
    "start_time": "2024-09-07T22:01:08.244Z"
   },
   {
    "duration": 6,
    "start_time": "2024-09-07T22:01:08.253Z"
   },
   {
    "duration": 3,
    "start_time": "2024-09-07T22:01:08.261Z"
   },
   {
    "duration": 4,
    "start_time": "2024-09-07T22:01:08.266Z"
   },
   {
    "duration": 675,
    "start_time": "2024-09-07T22:01:08.271Z"
   },
   {
    "duration": 4,
    "start_time": "2024-09-07T22:01:08.948Z"
   },
   {
    "duration": 7,
    "start_time": "2024-09-07T22:01:08.954Z"
   },
   {
    "duration": 1,
    "start_time": "2024-09-07T22:02:34.441Z"
   },
   {
    "duration": 0,
    "start_time": "2024-09-07T22:02:34.443Z"
   },
   {
    "duration": 0,
    "start_time": "2024-09-07T22:02:34.445Z"
   },
   {
    "duration": 0,
    "start_time": "2024-09-07T22:02:34.446Z"
   },
   {
    "duration": 0,
    "start_time": "2024-09-07T22:02:34.447Z"
   },
   {
    "duration": 0,
    "start_time": "2024-09-07T22:02:34.447Z"
   },
   {
    "duration": 0,
    "start_time": "2024-09-07T22:02:34.449Z"
   },
   {
    "duration": 0,
    "start_time": "2024-09-07T22:02:34.450Z"
   },
   {
    "duration": 0,
    "start_time": "2024-09-07T22:02:34.451Z"
   },
   {
    "duration": 0,
    "start_time": "2024-09-07T22:02:34.451Z"
   },
   {
    "duration": 0,
    "start_time": "2024-09-07T22:02:34.453Z"
   },
   {
    "duration": 0,
    "start_time": "2024-09-07T22:02:34.454Z"
   },
   {
    "duration": 0,
    "start_time": "2024-09-07T22:02:34.455Z"
   },
   {
    "duration": 0,
    "start_time": "2024-09-07T22:02:34.456Z"
   },
   {
    "duration": 0,
    "start_time": "2024-09-07T22:02:34.457Z"
   },
   {
    "duration": 0,
    "start_time": "2024-09-07T22:02:34.458Z"
   },
   {
    "duration": 0,
    "start_time": "2024-09-07T22:02:34.459Z"
   },
   {
    "duration": 0,
    "start_time": "2024-09-07T22:02:34.460Z"
   },
   {
    "duration": 0,
    "start_time": "2024-09-07T22:02:34.461Z"
   },
   {
    "duration": 0,
    "start_time": "2024-09-07T22:02:34.462Z"
   },
   {
    "duration": 0,
    "start_time": "2024-09-07T22:02:34.463Z"
   },
   {
    "duration": 0,
    "start_time": "2024-09-07T22:02:34.467Z"
   },
   {
    "duration": 0,
    "start_time": "2024-09-07T22:02:34.468Z"
   },
   {
    "duration": 3,
    "start_time": "2024-09-07T22:02:36.757Z"
   },
   {
    "duration": 30,
    "start_time": "2024-09-07T22:02:36.763Z"
   },
   {
    "duration": 18,
    "start_time": "2024-09-07T22:02:36.794Z"
   },
   {
    "duration": 17,
    "start_time": "2024-09-07T22:02:36.814Z"
   },
   {
    "duration": 20,
    "start_time": "2024-09-07T22:02:36.833Z"
   },
   {
    "duration": 4,
    "start_time": "2024-09-07T22:02:36.854Z"
   },
   {
    "duration": 13,
    "start_time": "2024-09-07T22:02:36.860Z"
   },
   {
    "duration": 6,
    "start_time": "2024-09-07T22:02:36.875Z"
   },
   {
    "duration": 59,
    "start_time": "2024-09-07T22:02:36.884Z"
   },
   {
    "duration": 89,
    "start_time": "2024-09-07T22:02:36.946Z"
   },
   {
    "duration": 737,
    "start_time": "2024-09-07T22:02:37.037Z"
   },
   {
    "duration": 6,
    "start_time": "2024-09-07T22:02:37.775Z"
   },
   {
    "duration": 7,
    "start_time": "2024-09-07T22:02:37.783Z"
   },
   {
    "duration": 28,
    "start_time": "2024-09-07T22:02:37.791Z"
   },
   {
    "duration": 7,
    "start_time": "2024-09-07T22:02:37.823Z"
   },
   {
    "duration": 655,
    "start_time": "2024-09-07T22:02:37.832Z"
   },
   {
    "duration": 4,
    "start_time": "2024-09-07T22:02:38.489Z"
   },
   {
    "duration": 28,
    "start_time": "2024-09-07T22:02:38.495Z"
   },
   {
    "duration": 181483,
    "start_time": "2024-09-07T22:02:38.524Z"
   },
   {
    "duration": 86,
    "start_time": "2024-09-07T22:05:40.009Z"
   },
   {
    "duration": 1301,
    "start_time": "2024-09-07T22:05:40.097Z"
   },
   {
    "duration": 164,
    "start_time": "2024-09-07T22:05:41.400Z"
   },
   {
    "duration": 165,
    "start_time": "2024-09-07T22:05:41.566Z"
   },
   {
    "duration": 657,
    "start_time": "2024-09-07T22:08:43.043Z"
   },
   {
    "duration": 160,
    "start_time": "2024-09-07T22:08:51.875Z"
   },
   {
    "duration": 156,
    "start_time": "2024-09-07T22:08:56.011Z"
   },
   {
    "duration": 3,
    "start_time": "2024-09-07T22:09:32.602Z"
   },
   {
    "duration": 48,
    "start_time": "2024-09-07T22:09:32.608Z"
   },
   {
    "duration": 18,
    "start_time": "2024-09-07T22:09:32.657Z"
   },
   {
    "duration": 9,
    "start_time": "2024-09-07T22:09:32.676Z"
   },
   {
    "duration": 27,
    "start_time": "2024-09-07T22:09:32.688Z"
   },
   {
    "duration": 21,
    "start_time": "2024-09-07T22:09:32.716Z"
   },
   {
    "duration": 15,
    "start_time": "2024-09-07T22:09:32.739Z"
   },
   {
    "duration": 8,
    "start_time": "2024-09-07T22:09:32.755Z"
   },
   {
    "duration": 32,
    "start_time": "2024-09-07T22:09:32.764Z"
   },
   {
    "duration": 116,
    "start_time": "2024-09-07T22:09:32.811Z"
   },
   {
    "duration": 720,
    "start_time": "2024-09-07T22:09:32.931Z"
   },
   {
    "duration": 5,
    "start_time": "2024-09-07T22:09:33.653Z"
   },
   {
    "duration": 6,
    "start_time": "2024-09-07T22:09:33.661Z"
   },
   {
    "duration": 3,
    "start_time": "2024-09-07T22:09:33.668Z"
   },
   {
    "duration": 5,
    "start_time": "2024-09-07T22:09:33.673Z"
   },
   {
    "duration": 691,
    "start_time": "2024-09-07T22:09:33.679Z"
   },
   {
    "duration": 4,
    "start_time": "2024-09-07T22:09:34.372Z"
   },
   {
    "duration": 9,
    "start_time": "2024-09-07T22:09:34.378Z"
   },
   {
    "duration": 181933,
    "start_time": "2024-09-07T22:09:34.390Z"
   },
   {
    "duration": 140,
    "start_time": "2024-09-07T22:12:36.336Z"
   },
   {
    "duration": 669,
    "start_time": "2024-09-07T22:12:36.478Z"
   },
   {
    "duration": 147,
    "start_time": "2024-09-07T22:12:37.149Z"
   },
   {
    "duration": 163,
    "start_time": "2024-09-07T22:12:37.298Z"
   },
   {
    "duration": 8,
    "start_time": "2024-09-08T08:03:39.852Z"
   },
   {
    "duration": 5,
    "start_time": "2024-09-08T08:25:03.914Z"
   },
   {
    "duration": 2607,
    "start_time": "2024-09-13T04:55:35.632Z"
   },
   {
    "duration": 45,
    "start_time": "2024-09-13T04:55:38.241Z"
   },
   {
    "duration": 18,
    "start_time": "2024-09-13T04:55:38.288Z"
   },
   {
    "duration": 9,
    "start_time": "2024-09-13T04:55:38.308Z"
   },
   {
    "duration": 9,
    "start_time": "2024-09-13T04:55:38.319Z"
   },
   {
    "duration": 3,
    "start_time": "2024-09-13T04:55:38.329Z"
   },
   {
    "duration": 13,
    "start_time": "2024-09-13T04:55:38.334Z"
   },
   {
    "duration": 7,
    "start_time": "2024-09-13T04:55:38.348Z"
   },
   {
    "duration": 65,
    "start_time": "2024-09-13T04:55:38.357Z"
   },
   {
    "duration": 94,
    "start_time": "2024-09-13T04:55:38.425Z"
   },
   {
    "duration": 693,
    "start_time": "2024-09-13T04:55:38.521Z"
   },
   {
    "duration": 5,
    "start_time": "2024-09-13T04:55:39.216Z"
   },
   {
    "duration": 6,
    "start_time": "2024-09-13T04:55:39.223Z"
   },
   {
    "duration": 2,
    "start_time": "2024-09-13T04:55:39.231Z"
   },
   {
    "duration": 5,
    "start_time": "2024-09-13T04:55:39.236Z"
   },
   {
    "duration": 613,
    "start_time": "2024-09-13T04:55:39.242Z"
   },
   {
    "duration": 4,
    "start_time": "2024-09-13T04:55:39.856Z"
   },
   {
    "duration": 8,
    "start_time": "2024-09-13T04:55:39.862Z"
   },
   {
    "duration": 854,
    "start_time": "2024-09-13T04:55:39.872Z"
   },
   {
    "duration": 113220,
    "start_time": "2024-09-13T04:55:40.728Z"
   },
   {
    "duration": 130,
    "start_time": "2024-09-13T04:57:33.949Z"
   },
   {
    "duration": 610,
    "start_time": "2024-09-13T04:57:34.081Z"
   },
   {
    "duration": 144,
    "start_time": "2024-09-13T04:57:34.693Z"
   },
   {
    "duration": 144,
    "start_time": "2024-09-13T04:57:34.839Z"
   },
   {
    "duration": 4,
    "start_time": "2024-09-13T04:58:01.275Z"
   },
   {
    "duration": 29,
    "start_time": "2024-09-13T04:58:01.282Z"
   },
   {
    "duration": 17,
    "start_time": "2024-09-13T04:58:01.313Z"
   },
   {
    "duration": 8,
    "start_time": "2024-09-13T04:58:01.332Z"
   },
   {
    "duration": 9,
    "start_time": "2024-09-13T04:58:01.342Z"
   },
   {
    "duration": 3,
    "start_time": "2024-09-13T04:58:01.353Z"
   },
   {
    "duration": 14,
    "start_time": "2024-09-13T04:58:01.358Z"
   },
   {
    "duration": 6,
    "start_time": "2024-09-13T04:58:01.406Z"
   },
   {
    "duration": 31,
    "start_time": "2024-09-13T04:58:01.414Z"
   },
   {
    "duration": 78,
    "start_time": "2024-09-13T04:58:01.447Z"
   },
   {
    "duration": 707,
    "start_time": "2024-09-13T04:58:01.526Z"
   },
   {
    "duration": 5,
    "start_time": "2024-09-13T04:58:02.235Z"
   },
   {
    "duration": 6,
    "start_time": "2024-09-13T04:58:02.241Z"
   },
   {
    "duration": 2,
    "start_time": "2024-09-13T04:58:02.251Z"
   },
   {
    "duration": 4,
    "start_time": "2024-09-13T04:58:02.255Z"
   },
   {
    "duration": 628,
    "start_time": "2024-09-13T04:58:02.260Z"
   },
   {
    "duration": 4,
    "start_time": "2024-09-13T04:58:02.890Z"
   },
   {
    "duration": 18,
    "start_time": "2024-09-13T04:58:02.896Z"
   },
   {
    "duration": 847,
    "start_time": "2024-09-13T04:58:02.917Z"
   },
   {
    "duration": 113671,
    "start_time": "2024-09-13T04:58:03.766Z"
   },
   {
    "duration": 125,
    "start_time": "2024-09-13T04:59:57.440Z"
   },
   {
    "duration": 607,
    "start_time": "2024-09-13T04:59:57.567Z"
   },
   {
    "duration": 137,
    "start_time": "2024-09-13T04:59:58.176Z"
   },
   {
    "duration": 137,
    "start_time": "2024-09-13T04:59:58.314Z"
   },
   {
    "duration": 4,
    "start_time": "2024-09-13T05:09:59.903Z"
   },
   {
    "duration": 5,
    "start_time": "2024-09-13T05:10:12.794Z"
   },
   {
    "duration": 5,
    "start_time": "2024-09-13T05:16:17.559Z"
   },
   {
    "duration": 31,
    "start_time": "2024-09-13T05:16:17.569Z"
   },
   {
    "duration": 18,
    "start_time": "2024-09-13T05:16:17.602Z"
   },
   {
    "duration": 9,
    "start_time": "2024-09-13T05:16:17.621Z"
   },
   {
    "duration": 9,
    "start_time": "2024-09-13T05:16:17.632Z"
   },
   {
    "duration": 3,
    "start_time": "2024-09-13T05:16:17.643Z"
   },
   {
    "duration": 13,
    "start_time": "2024-09-13T05:16:17.648Z"
   },
   {
    "duration": 6,
    "start_time": "2024-09-13T05:16:17.663Z"
   },
   {
    "duration": 65,
    "start_time": "2024-09-13T05:16:17.670Z"
   },
   {
    "duration": 73,
    "start_time": "2024-09-13T05:16:17.737Z"
   },
   {
    "duration": 654,
    "start_time": "2024-09-13T05:16:17.813Z"
   },
   {
    "duration": 6,
    "start_time": "2024-09-13T05:16:18.468Z"
   },
   {
    "duration": 6,
    "start_time": "2024-09-13T05:16:18.475Z"
   },
   {
    "duration": 22,
    "start_time": "2024-09-13T05:16:18.483Z"
   },
   {
    "duration": 5,
    "start_time": "2024-09-13T05:16:18.508Z"
   },
   {
    "duration": 606,
    "start_time": "2024-09-13T05:16:18.514Z"
   },
   {
    "duration": 3,
    "start_time": "2024-09-13T05:16:19.122Z"
   },
   {
    "duration": 7,
    "start_time": "2024-09-13T05:16:19.127Z"
   },
   {
    "duration": 852,
    "start_time": "2024-09-13T05:16:19.136Z"
   },
   {
    "duration": 4,
    "start_time": "2024-09-13T05:16:19.990Z"
   },
   {
    "duration": 12,
    "start_time": "2024-09-13T05:16:19.995Z"
   },
   {
    "duration": 8,
    "start_time": "2024-09-13T05:16:20.009Z"
   },
   {
    "duration": 0,
    "start_time": "2024-09-13T05:16:20.019Z"
   },
   {
    "duration": 0,
    "start_time": "2024-09-13T05:16:20.020Z"
   },
   {
    "duration": 604,
    "start_time": "2024-09-13T05:17:14.458Z"
   },
   {
    "duration": 4,
    "start_time": "2024-09-13T05:18:23.604Z"
   },
   {
    "duration": 3,
    "start_time": "2024-09-13T05:18:26.866Z"
   },
   {
    "duration": 30,
    "start_time": "2024-09-13T05:18:26.871Z"
   },
   {
    "duration": 18,
    "start_time": "2024-09-13T05:18:26.903Z"
   },
   {
    "duration": 10,
    "start_time": "2024-09-13T05:18:26.923Z"
   },
   {
    "duration": 10,
    "start_time": "2024-09-13T05:18:26.934Z"
   },
   {
    "duration": 3,
    "start_time": "2024-09-13T05:18:26.947Z"
   },
   {
    "duration": 14,
    "start_time": "2024-09-13T05:18:26.952Z"
   },
   {
    "duration": 42,
    "start_time": "2024-09-13T05:18:26.967Z"
   },
   {
    "duration": 31,
    "start_time": "2024-09-13T05:18:27.012Z"
   },
   {
    "duration": 80,
    "start_time": "2024-09-13T05:18:27.044Z"
   },
   {
    "duration": 698,
    "start_time": "2024-09-13T05:18:27.126Z"
   },
   {
    "duration": 5,
    "start_time": "2024-09-13T05:18:27.826Z"
   },
   {
    "duration": 6,
    "start_time": "2024-09-13T05:18:27.834Z"
   },
   {
    "duration": 3,
    "start_time": "2024-09-13T05:18:27.841Z"
   },
   {
    "duration": 5,
    "start_time": "2024-09-13T05:18:27.845Z"
   },
   {
    "duration": 614,
    "start_time": "2024-09-13T05:18:27.851Z"
   },
   {
    "duration": 3,
    "start_time": "2024-09-13T05:18:28.467Z"
   },
   {
    "duration": 9,
    "start_time": "2024-09-13T05:18:28.472Z"
   },
   {
    "duration": 167,
    "start_time": "2024-09-13T05:18:28.482Z"
   },
   {
    "duration": 0,
    "start_time": "2024-09-13T05:18:28.651Z"
   },
   {
    "duration": 0,
    "start_time": "2024-09-13T05:18:28.652Z"
   },
   {
    "duration": 0,
    "start_time": "2024-09-13T05:18:28.654Z"
   },
   {
    "duration": 0,
    "start_time": "2024-09-13T05:18:28.656Z"
   },
   {
    "duration": 0,
    "start_time": "2024-09-13T05:18:28.657Z"
   },
   {
    "duration": 4,
    "start_time": "2024-09-13T05:19:55.097Z"
   },
   {
    "duration": 28,
    "start_time": "2024-09-13T05:19:55.103Z"
   },
   {
    "duration": 19,
    "start_time": "2024-09-13T05:19:55.133Z"
   },
   {
    "duration": 9,
    "start_time": "2024-09-13T05:19:55.155Z"
   },
   {
    "duration": 40,
    "start_time": "2024-09-13T05:19:55.166Z"
   },
   {
    "duration": 4,
    "start_time": "2024-09-13T05:19:55.207Z"
   },
   {
    "duration": 14,
    "start_time": "2024-09-13T05:19:55.212Z"
   },
   {
    "duration": 7,
    "start_time": "2024-09-13T05:19:55.227Z"
   },
   {
    "duration": 31,
    "start_time": "2024-09-13T05:19:55.235Z"
   },
   {
    "duration": 144,
    "start_time": "2024-09-13T05:19:55.267Z"
   },
   {
    "duration": 660,
    "start_time": "2024-09-13T05:19:55.412Z"
   },
   {
    "duration": 6,
    "start_time": "2024-09-13T05:19:56.074Z"
   },
   {
    "duration": 6,
    "start_time": "2024-09-13T05:19:56.081Z"
   },
   {
    "duration": 4,
    "start_time": "2024-09-13T05:19:56.104Z"
   },
   {
    "duration": 4,
    "start_time": "2024-09-13T05:19:56.110Z"
   },
   {
    "duration": 605,
    "start_time": "2024-09-13T05:19:56.116Z"
   },
   {
    "duration": 4,
    "start_time": "2024-09-13T05:19:56.723Z"
   },
   {
    "duration": 9,
    "start_time": "2024-09-13T05:19:56.728Z"
   },
   {
    "duration": 28,
    "start_time": "2024-09-13T05:19:56.738Z"
   },
   {
    "duration": 0,
    "start_time": "2024-09-13T05:19:56.768Z"
   },
   {
    "duration": 0,
    "start_time": "2024-09-13T05:19:56.770Z"
   },
   {
    "duration": 0,
    "start_time": "2024-09-13T05:19:56.771Z"
   },
   {
    "duration": 0,
    "start_time": "2024-09-13T05:19:56.773Z"
   },
   {
    "duration": 0,
    "start_time": "2024-09-13T05:19:56.774Z"
   },
   {
    "duration": 3,
    "start_time": "2024-09-13T05:22:20.909Z"
   },
   {
    "duration": 29,
    "start_time": "2024-09-13T05:22:20.914Z"
   },
   {
    "duration": 18,
    "start_time": "2024-09-13T05:22:20.945Z"
   },
   {
    "duration": 10,
    "start_time": "2024-09-13T05:22:20.964Z"
   },
   {
    "duration": 9,
    "start_time": "2024-09-13T05:22:21.005Z"
   },
   {
    "duration": 3,
    "start_time": "2024-09-13T05:22:21.016Z"
   },
   {
    "duration": 15,
    "start_time": "2024-09-13T05:22:21.021Z"
   },
   {
    "duration": 6,
    "start_time": "2024-09-13T05:22:21.037Z"
   },
   {
    "duration": 30,
    "start_time": "2024-09-13T05:22:21.045Z"
   },
   {
    "duration": 136,
    "start_time": "2024-09-13T05:22:21.076Z"
   },
   {
    "duration": 669,
    "start_time": "2024-09-13T05:22:21.214Z"
   },
   {
    "duration": 5,
    "start_time": "2024-09-13T05:22:21.885Z"
   },
   {
    "duration": 6,
    "start_time": "2024-09-13T05:22:21.904Z"
   },
   {
    "duration": 3,
    "start_time": "2024-09-13T05:22:21.913Z"
   },
   {
    "duration": 5,
    "start_time": "2024-09-13T05:22:21.918Z"
   },
   {
    "duration": 613,
    "start_time": "2024-09-13T05:22:21.924Z"
   },
   {
    "duration": 3,
    "start_time": "2024-09-13T05:22:22.539Z"
   },
   {
    "duration": 8,
    "start_time": "2024-09-13T05:22:22.544Z"
   },
   {
    "duration": 862,
    "start_time": "2024-09-13T05:22:22.554Z"
   },
   {
    "duration": 3,
    "start_time": "2024-09-13T05:22:23.419Z"
   },
   {
    "duration": 4,
    "start_time": "2024-09-13T05:22:23.424Z"
   },
   {
    "duration": 613,
    "start_time": "2024-09-13T05:22:23.430Z"
   },
   {
    "duration": 145,
    "start_time": "2024-09-13T05:22:24.044Z"
   },
   {
    "duration": 146,
    "start_time": "2024-09-13T05:22:24.190Z"
   },
   {
    "duration": 51,
    "start_time": "2024-09-13T05:24:33.517Z"
   },
   {
    "duration": 331,
    "start_time": "2024-09-13T05:25:28.852Z"
   },
   {
    "duration": 2096,
    "start_time": "2024-09-13T05:27:07.850Z"
   },
   {
    "duration": 2022,
    "start_time": "2024-09-13T05:27:41.084Z"
   },
   {
    "duration": 333,
    "start_time": "2024-09-13T05:27:59.294Z"
   },
   {
    "duration": 4,
    "start_time": "2024-09-13T05:28:08.416Z"
   },
   {
    "duration": 29,
    "start_time": "2024-09-13T05:28:08.422Z"
   },
   {
    "duration": 17,
    "start_time": "2024-09-13T05:28:08.453Z"
   },
   {
    "duration": 9,
    "start_time": "2024-09-13T05:28:08.472Z"
   },
   {
    "duration": 10,
    "start_time": "2024-09-13T05:28:08.505Z"
   },
   {
    "duration": 3,
    "start_time": "2024-09-13T05:28:08.517Z"
   },
   {
    "duration": 13,
    "start_time": "2024-09-13T05:28:08.522Z"
   },
   {
    "duration": 7,
    "start_time": "2024-09-13T05:28:08.537Z"
   },
   {
    "duration": 30,
    "start_time": "2024-09-13T05:28:08.545Z"
   },
   {
    "duration": 101,
    "start_time": "2024-09-13T05:28:08.605Z"
   },
   {
    "duration": 650,
    "start_time": "2024-09-13T05:28:08.708Z"
   },
   {
    "duration": 6,
    "start_time": "2024-09-13T05:28:09.360Z"
   },
   {
    "duration": 5,
    "start_time": "2024-09-13T05:28:09.368Z"
   },
   {
    "duration": 3,
    "start_time": "2024-09-13T05:28:09.376Z"
   },
   {
    "duration": 4,
    "start_time": "2024-09-13T05:28:09.405Z"
   },
   {
    "duration": 594,
    "start_time": "2024-09-13T05:28:09.411Z"
   },
   {
    "duration": 3,
    "start_time": "2024-09-13T05:28:10.007Z"
   },
   {
    "duration": 8,
    "start_time": "2024-09-13T05:28:10.013Z"
   },
   {
    "duration": 846,
    "start_time": "2024-09-13T05:28:10.022Z"
   },
   {
    "duration": 2041,
    "start_time": "2024-09-13T05:28:10.870Z"
   },
   {
    "duration": 345,
    "start_time": "2024-09-13T05:28:12.913Z"
   },
   {
    "duration": 4,
    "start_time": "2024-09-13T05:28:13.260Z"
   },
   {
    "duration": 4,
    "start_time": "2024-09-13T05:28:13.266Z"
   },
   {
    "duration": 619,
    "start_time": "2024-09-13T05:28:13.272Z"
   },
   {
    "duration": 120,
    "start_time": "2024-09-13T05:28:13.893Z"
   },
   {
    "duration": 123,
    "start_time": "2024-09-13T05:28:14.015Z"
   },
   {
    "duration": 7,
    "start_time": "2024-09-13T08:35:36.037Z"
   },
   {
    "duration": 2679,
    "start_time": "2024-09-13T08:42:38.456Z"
   },
   {
    "duration": 44,
    "start_time": "2024-09-13T08:42:41.137Z"
   },
   {
    "duration": 17,
    "start_time": "2024-09-13T08:42:41.183Z"
   },
   {
    "duration": 8,
    "start_time": "2024-09-13T08:42:41.202Z"
   },
   {
    "duration": 26,
    "start_time": "2024-09-13T08:42:41.212Z"
   },
   {
    "duration": 4,
    "start_time": "2024-09-13T08:42:41.240Z"
   },
   {
    "duration": 15,
    "start_time": "2024-09-13T08:42:41.245Z"
   },
   {
    "duration": 7,
    "start_time": "2024-09-13T08:42:41.262Z"
   },
   {
    "duration": 31,
    "start_time": "2024-09-13T08:42:41.270Z"
   },
   {
    "duration": 111,
    "start_time": "2024-09-13T08:42:41.330Z"
   },
   {
    "duration": 689,
    "start_time": "2024-09-13T08:42:41.443Z"
   },
   {
    "duration": 6,
    "start_time": "2024-09-13T08:42:42.134Z"
   },
   {
    "duration": 6,
    "start_time": "2024-09-13T08:42:42.142Z"
   },
   {
    "duration": 2,
    "start_time": "2024-09-13T08:42:42.150Z"
   },
   {
    "duration": 4,
    "start_time": "2024-09-13T08:42:42.154Z"
   },
   {
    "duration": 619,
    "start_time": "2024-09-13T08:42:42.160Z"
   },
   {
    "duration": 4,
    "start_time": "2024-09-13T08:42:42.781Z"
   },
   {
    "duration": 9,
    "start_time": "2024-09-13T08:42:42.787Z"
   },
   {
    "duration": 855,
    "start_time": "2024-09-13T08:42:42.798Z"
   },
   {
    "duration": 289,
    "start_time": "2024-09-13T08:42:43.655Z"
   },
   {
    "duration": 0,
    "start_time": "2024-09-13T08:42:43.946Z"
   },
   {
    "duration": 0,
    "start_time": "2024-09-13T08:42:43.948Z"
   },
   {
    "duration": 0,
    "start_time": "2024-09-13T08:42:43.950Z"
   },
   {
    "duration": 3,
    "start_time": "2024-09-13T08:43:07.407Z"
   },
   {
    "duration": 28,
    "start_time": "2024-09-13T08:43:07.412Z"
   },
   {
    "duration": 17,
    "start_time": "2024-09-13T08:43:07.442Z"
   },
   {
    "duration": 8,
    "start_time": "2024-09-13T08:43:07.461Z"
   },
   {
    "duration": 9,
    "start_time": "2024-09-13T08:43:07.471Z"
   },
   {
    "duration": 3,
    "start_time": "2024-09-13T08:43:07.482Z"
   },
   {
    "duration": 45,
    "start_time": "2024-09-13T08:43:07.487Z"
   },
   {
    "duration": 6,
    "start_time": "2024-09-13T08:43:07.534Z"
   },
   {
    "duration": 31,
    "start_time": "2024-09-13T08:43:07.541Z"
   },
   {
    "duration": 160,
    "start_time": "2024-09-13T08:43:07.574Z"
   },
   {
    "duration": 656,
    "start_time": "2024-09-13T08:43:07.736Z"
   },
   {
    "duration": 5,
    "start_time": "2024-09-13T08:43:08.394Z"
   },
   {
    "duration": 6,
    "start_time": "2024-09-13T08:43:08.400Z"
   },
   {
    "duration": 2,
    "start_time": "2024-09-13T08:43:08.410Z"
   },
   {
    "duration": 6,
    "start_time": "2024-09-13T08:43:08.431Z"
   },
   {
    "duration": 602,
    "start_time": "2024-09-13T08:43:08.438Z"
   },
   {
    "duration": 4,
    "start_time": "2024-09-13T08:43:09.043Z"
   },
   {
    "duration": 8,
    "start_time": "2024-09-13T08:43:09.048Z"
   },
   {
    "duration": 842,
    "start_time": "2024-09-13T08:43:09.057Z"
   },
   {
    "duration": 2645,
    "start_time": "2024-09-13T08:43:09.901Z"
   },
   {
    "duration": 338,
    "start_time": "2024-09-13T08:43:12.548Z"
   },
   {
    "duration": 132,
    "start_time": "2024-09-13T08:43:12.888Z"
   },
   {
    "duration": 123,
    "start_time": "2024-09-13T08:43:13.022Z"
   },
   {
    "duration": 9,
    "start_time": "2024-09-13T08:44:53.827Z"
   },
   {
    "duration": 3,
    "start_time": "2024-09-13T08:45:28.791Z"
   },
   {
    "duration": 33,
    "start_time": "2024-09-13T08:45:28.800Z"
   },
   {
    "duration": 25,
    "start_time": "2024-09-13T08:45:28.836Z"
   },
   {
    "duration": 12,
    "start_time": "2024-09-13T08:45:28.863Z"
   },
   {
    "duration": 11,
    "start_time": "2024-09-13T08:45:28.877Z"
   },
   {
    "duration": 4,
    "start_time": "2024-09-13T08:45:28.891Z"
   },
   {
    "duration": 46,
    "start_time": "2024-09-13T08:45:28.897Z"
   },
   {
    "duration": 6,
    "start_time": "2024-09-13T08:45:28.945Z"
   },
   {
    "duration": 32,
    "start_time": "2024-09-13T08:45:28.953Z"
   },
   {
    "duration": 69,
    "start_time": "2024-09-13T08:45:28.987Z"
   },
   {
    "duration": 647,
    "start_time": "2024-09-13T08:45:29.133Z"
   },
   {
    "duration": 7,
    "start_time": "2024-09-13T08:45:29.782Z"
   },
   {
    "duration": 6,
    "start_time": "2024-09-13T08:45:29.790Z"
   },
   {
    "duration": 3,
    "start_time": "2024-09-13T08:45:29.798Z"
   },
   {
    "duration": 28,
    "start_time": "2024-09-13T08:45:29.804Z"
   },
   {
    "duration": 603,
    "start_time": "2024-09-13T08:45:29.834Z"
   },
   {
    "duration": 3,
    "start_time": "2024-09-13T08:45:30.439Z"
   },
   {
    "duration": 9,
    "start_time": "2024-09-13T08:45:30.444Z"
   },
   {
    "duration": 866,
    "start_time": "2024-09-13T08:45:30.454Z"
   },
   {
    "duration": 17537,
    "start_time": "2024-09-13T08:45:31.322Z"
   },
   {
    "duration": 338,
    "start_time": "2024-09-13T08:45:48.861Z"
   },
   {
    "duration": 123,
    "start_time": "2024-09-13T08:45:49.201Z"
   },
   {
    "duration": 124,
    "start_time": "2024-09-13T08:45:49.325Z"
   },
   {
    "duration": 9,
    "start_time": "2024-09-13T08:45:49.451Z"
   },
   {
    "duration": 3,
    "start_time": "2024-09-13T08:46:20.882Z"
   },
   {
    "duration": 27,
    "start_time": "2024-09-13T08:46:20.889Z"
   },
   {
    "duration": 19,
    "start_time": "2024-09-13T08:46:20.918Z"
   },
   {
    "duration": 9,
    "start_time": "2024-09-13T08:46:20.938Z"
   },
   {
    "duration": 11,
    "start_time": "2024-09-13T08:46:20.948Z"
   },
   {
    "duration": 3,
    "start_time": "2024-09-13T08:46:20.962Z"
   },
   {
    "duration": 14,
    "start_time": "2024-09-13T08:46:20.967Z"
   },
   {
    "duration": 6,
    "start_time": "2024-09-13T08:46:20.983Z"
   },
   {
    "duration": 63,
    "start_time": "2024-09-13T08:46:20.991Z"
   },
   {
    "duration": 89,
    "start_time": "2024-09-13T08:46:21.055Z"
   },
   {
    "duration": 685,
    "start_time": "2024-09-13T08:46:21.146Z"
   },
   {
    "duration": 6,
    "start_time": "2024-09-13T08:46:21.833Z"
   },
   {
    "duration": 6,
    "start_time": "2024-09-13T08:46:21.841Z"
   },
   {
    "duration": 2,
    "start_time": "2024-09-13T08:46:21.849Z"
   },
   {
    "duration": 4,
    "start_time": "2024-09-13T08:46:21.854Z"
   },
   {
    "duration": 615,
    "start_time": "2024-09-13T08:46:21.859Z"
   },
   {
    "duration": 3,
    "start_time": "2024-09-13T08:46:22.477Z"
   },
   {
    "duration": 8,
    "start_time": "2024-09-13T08:46:22.482Z"
   },
   {
    "duration": 846,
    "start_time": "2024-09-13T08:46:22.492Z"
   },
   {
    "duration": 17747,
    "start_time": "2024-09-13T08:46:23.341Z"
   },
   {
    "duration": 450,
    "start_time": "2024-09-13T08:46:41.091Z"
   },
   {
    "duration": 123,
    "start_time": "2024-09-13T08:46:41.543Z"
   },
   {
    "duration": 122,
    "start_time": "2024-09-13T08:46:41.668Z"
   },
   {
    "duration": 9,
    "start_time": "2024-09-13T08:46:41.792Z"
   },
   {
    "duration": 0,
    "start_time": "2024-09-13T08:49:17.908Z"
   },
   {
    "duration": 0,
    "start_time": "2024-09-13T08:49:17.909Z"
   },
   {
    "duration": 0,
    "start_time": "2024-09-13T08:49:17.911Z"
   },
   {
    "duration": 0,
    "start_time": "2024-09-13T08:49:17.912Z"
   },
   {
    "duration": 0,
    "start_time": "2024-09-13T08:49:17.913Z"
   },
   {
    "duration": 0,
    "start_time": "2024-09-13T08:49:17.915Z"
   },
   {
    "duration": 0,
    "start_time": "2024-09-13T08:49:17.916Z"
   },
   {
    "duration": 0,
    "start_time": "2024-09-13T08:49:17.917Z"
   },
   {
    "duration": 0,
    "start_time": "2024-09-13T08:49:17.931Z"
   },
   {
    "duration": 0,
    "start_time": "2024-09-13T08:49:17.932Z"
   },
   {
    "duration": 0,
    "start_time": "2024-09-13T08:49:17.933Z"
   },
   {
    "duration": 0,
    "start_time": "2024-09-13T08:49:17.935Z"
   },
   {
    "duration": 0,
    "start_time": "2024-09-13T08:49:17.936Z"
   },
   {
    "duration": 0,
    "start_time": "2024-09-13T08:49:17.937Z"
   },
   {
    "duration": 0,
    "start_time": "2024-09-13T08:49:17.939Z"
   },
   {
    "duration": 0,
    "start_time": "2024-09-13T08:49:17.940Z"
   },
   {
    "duration": 0,
    "start_time": "2024-09-13T08:49:17.942Z"
   },
   {
    "duration": 0,
    "start_time": "2024-09-13T08:49:17.943Z"
   },
   {
    "duration": 0,
    "start_time": "2024-09-13T08:49:17.944Z"
   },
   {
    "duration": 0,
    "start_time": "2024-09-13T08:49:17.946Z"
   },
   {
    "duration": 0,
    "start_time": "2024-09-13T08:49:17.948Z"
   },
   {
    "duration": 0,
    "start_time": "2024-09-13T08:49:17.949Z"
   },
   {
    "duration": 0,
    "start_time": "2024-09-13T08:49:17.949Z"
   },
   {
    "duration": 0,
    "start_time": "2024-09-13T08:49:17.950Z"
   },
   {
    "duration": 3,
    "start_time": "2024-09-13T08:49:21.037Z"
   },
   {
    "duration": 30,
    "start_time": "2024-09-13T08:49:21.042Z"
   },
   {
    "duration": 18,
    "start_time": "2024-09-13T08:49:21.075Z"
   },
   {
    "duration": 38,
    "start_time": "2024-09-13T08:49:21.094Z"
   },
   {
    "duration": 12,
    "start_time": "2024-09-13T08:49:21.135Z"
   },
   {
    "duration": 4,
    "start_time": "2024-09-13T08:49:21.148Z"
   },
   {
    "duration": 15,
    "start_time": "2024-09-13T08:49:21.154Z"
   },
   {
    "duration": 8,
    "start_time": "2024-09-13T08:49:21.170Z"
   },
   {
    "duration": 61,
    "start_time": "2024-09-13T08:49:21.179Z"
   },
   {
    "duration": 99,
    "start_time": "2024-09-13T08:49:21.242Z"
   },
   {
    "duration": 674,
    "start_time": "2024-09-13T08:49:21.345Z"
   },
   {
    "duration": 11,
    "start_time": "2024-09-13T08:49:22.023Z"
   },
   {
    "duration": 5,
    "start_time": "2024-09-13T08:49:22.036Z"
   },
   {
    "duration": 3,
    "start_time": "2024-09-13T08:49:22.043Z"
   },
   {
    "duration": 4,
    "start_time": "2024-09-13T08:49:22.048Z"
   },
   {
    "duration": 608,
    "start_time": "2024-09-13T08:49:22.053Z"
   },
   {
    "duration": 4,
    "start_time": "2024-09-13T08:49:22.663Z"
   },
   {
    "duration": 8,
    "start_time": "2024-09-13T08:49:22.669Z"
   },
   {
    "duration": 845,
    "start_time": "2024-09-13T08:49:22.679Z"
   },
   {
    "duration": 116871,
    "start_time": "2024-09-13T08:49:23.526Z"
   },
   {
    "duration": 464,
    "start_time": "2024-09-13T08:51:20.400Z"
   },
   {
    "duration": 123,
    "start_time": "2024-09-13T08:51:20.866Z"
   },
   {
    "duration": 117,
    "start_time": "2024-09-13T08:51:20.991Z"
   },
   {
    "duration": 20,
    "start_time": "2024-09-13T08:51:21.111Z"
   },
   {
    "duration": 4,
    "start_time": "2024-09-13T08:52:21.987Z"
   },
   {
    "duration": 28,
    "start_time": "2024-09-13T08:52:21.998Z"
   },
   {
    "duration": 19,
    "start_time": "2024-09-13T08:52:22.028Z"
   },
   {
    "duration": 10,
    "start_time": "2024-09-13T08:52:22.049Z"
   },
   {
    "duration": 10,
    "start_time": "2024-09-13T08:52:22.061Z"
   },
   {
    "duration": 3,
    "start_time": "2024-09-13T08:52:22.074Z"
   },
   {
    "duration": 128,
    "start_time": "2024-09-13T08:52:22.080Z"
   },
   {
    "duration": 8,
    "start_time": "2024-09-13T08:52:22.210Z"
   },
   {
    "duration": 41,
    "start_time": "2024-09-13T08:52:22.219Z"
   },
   {
    "duration": 86,
    "start_time": "2024-09-13T08:52:22.261Z"
   },
   {
    "duration": 694,
    "start_time": "2024-09-13T08:52:22.350Z"
   },
   {
    "duration": 5,
    "start_time": "2024-09-13T08:52:23.046Z"
   },
   {
    "duration": 7,
    "start_time": "2024-09-13T08:52:23.052Z"
   },
   {
    "duration": 2,
    "start_time": "2024-09-13T08:52:23.060Z"
   },
   {
    "duration": 4,
    "start_time": "2024-09-13T08:52:23.065Z"
   },
   {
    "duration": 614,
    "start_time": "2024-09-13T08:52:23.071Z"
   },
   {
    "duration": 3,
    "start_time": "2024-09-13T08:52:23.687Z"
   },
   {
    "duration": 9,
    "start_time": "2024-09-13T08:52:23.692Z"
   },
   {
    "duration": 845,
    "start_time": "2024-09-13T08:52:23.702Z"
   },
   {
    "duration": 3782,
    "start_time": "2024-09-13T08:52:24.549Z"
   },
   {
    "duration": 16,
    "start_time": "2024-09-13T08:52:28.333Z"
   },
   {
    "duration": 0,
    "start_time": "2024-09-13T08:52:28.350Z"
   },
   {
    "duration": 0,
    "start_time": "2024-09-13T08:52:28.352Z"
   },
   {
    "duration": 0,
    "start_time": "2024-09-13T08:52:28.353Z"
   },
   {
    "duration": 16,
    "start_time": "2024-09-13T08:52:54.174Z"
   },
   {
    "duration": 21,
    "start_time": "2024-09-13T08:53:01.260Z"
   },
   {
    "duration": 3,
    "start_time": "2024-09-13T08:55:39.985Z"
   },
   {
    "duration": 29,
    "start_time": "2024-09-13T08:55:39.991Z"
   },
   {
    "duration": 19,
    "start_time": "2024-09-13T08:55:40.022Z"
   },
   {
    "duration": 9,
    "start_time": "2024-09-13T08:55:40.043Z"
   },
   {
    "duration": 10,
    "start_time": "2024-09-13T08:55:40.054Z"
   },
   {
    "duration": 3,
    "start_time": "2024-09-13T08:55:40.066Z"
   },
   {
    "duration": 15,
    "start_time": "2024-09-13T08:55:40.072Z"
   },
   {
    "duration": 7,
    "start_time": "2024-09-13T08:55:40.090Z"
   },
   {
    "duration": 64,
    "start_time": "2024-09-13T08:55:40.098Z"
   },
   {
    "duration": 89,
    "start_time": "2024-09-13T08:55:40.164Z"
   },
   {
    "duration": 715,
    "start_time": "2024-09-13T08:55:40.254Z"
   },
   {
    "duration": 6,
    "start_time": "2024-09-13T08:55:40.970Z"
   },
   {
    "duration": 6,
    "start_time": "2024-09-13T08:55:40.978Z"
   },
   {
    "duration": 2,
    "start_time": "2024-09-13T08:55:40.987Z"
   },
   {
    "duration": 5,
    "start_time": "2024-09-13T08:55:40.991Z"
   },
   {
    "duration": 620,
    "start_time": "2024-09-13T08:55:40.997Z"
   },
   {
    "duration": 12,
    "start_time": "2024-09-13T08:55:41.619Z"
   },
   {
    "duration": 8,
    "start_time": "2024-09-13T08:55:41.633Z"
   },
   {
    "duration": 841,
    "start_time": "2024-09-13T08:55:41.642Z"
   },
   {
    "duration": 215252,
    "start_time": "2024-09-13T08:55:42.487Z"
   },
   {
    "duration": 0,
    "start_time": "2024-09-13T08:59:17.741Z"
   },
   {
    "duration": 0,
    "start_time": "2024-09-13T08:59:17.742Z"
   },
   {
    "duration": 0,
    "start_time": "2024-09-13T08:59:17.743Z"
   },
   {
    "duration": 0,
    "start_time": "2024-09-13T08:59:17.744Z"
   },
   {
    "duration": 4,
    "start_time": "2024-09-13T08:59:20.248Z"
   },
   {
    "duration": 33,
    "start_time": "2024-09-13T08:59:20.255Z"
   },
   {
    "duration": 18,
    "start_time": "2024-09-13T08:59:20.290Z"
   },
   {
    "duration": 22,
    "start_time": "2024-09-13T08:59:20.310Z"
   },
   {
    "duration": 9,
    "start_time": "2024-09-13T08:59:20.333Z"
   },
   {
    "duration": 3,
    "start_time": "2024-09-13T08:59:20.344Z"
   },
   {
    "duration": 14,
    "start_time": "2024-09-13T08:59:20.348Z"
   },
   {
    "duration": 7,
    "start_time": "2024-09-13T08:59:20.363Z"
   },
   {
    "duration": 59,
    "start_time": "2024-09-13T08:59:20.372Z"
   },
   {
    "duration": 106,
    "start_time": "2024-09-13T08:59:20.433Z"
   },
   {
    "duration": 669,
    "start_time": "2024-09-13T08:59:20.541Z"
   },
   {
    "duration": 6,
    "start_time": "2024-09-13T08:59:21.212Z"
   },
   {
    "duration": 14,
    "start_time": "2024-09-13T08:59:21.220Z"
   },
   {
    "duration": 3,
    "start_time": "2024-09-13T08:59:21.236Z"
   },
   {
    "duration": 5,
    "start_time": "2024-09-13T08:59:21.240Z"
   },
   {
    "duration": 604,
    "start_time": "2024-09-13T08:59:21.247Z"
   },
   {
    "duration": 4,
    "start_time": "2024-09-13T08:59:21.854Z"
   },
   {
    "duration": 8,
    "start_time": "2024-09-13T08:59:21.859Z"
   },
   {
    "duration": 851,
    "start_time": "2024-09-13T08:59:21.869Z"
   },
   {
    "duration": 21565,
    "start_time": "2024-09-13T08:59:22.722Z"
   },
   {
    "duration": 20,
    "start_time": "2024-09-13T08:59:44.289Z"
   },
   {
    "duration": 0,
    "start_time": "2024-09-13T08:59:44.311Z"
   },
   {
    "duration": 0,
    "start_time": "2024-09-13T08:59:44.313Z"
   },
   {
    "duration": 0,
    "start_time": "2024-09-13T08:59:44.314Z"
   },
   {
    "duration": 16,
    "start_time": "2024-09-13T09:00:21.318Z"
   },
   {
    "duration": 0,
    "start_time": "2024-09-13T09:00:21.336Z"
   },
   {
    "duration": 0,
    "start_time": "2024-09-13T09:00:21.338Z"
   },
   {
    "duration": 0,
    "start_time": "2024-09-13T09:00:21.339Z"
   },
   {
    "duration": 421,
    "start_time": "2024-09-13T09:00:36.059Z"
   },
   {
    "duration": 3,
    "start_time": "2024-09-13T09:01:05.670Z"
   },
   {
    "duration": 29,
    "start_time": "2024-09-13T09:01:05.676Z"
   },
   {
    "duration": 18,
    "start_time": "2024-09-13T09:01:05.707Z"
   },
   {
    "duration": 9,
    "start_time": "2024-09-13T09:01:05.727Z"
   },
   {
    "duration": 10,
    "start_time": "2024-09-13T09:01:05.739Z"
   },
   {
    "duration": 3,
    "start_time": "2024-09-13T09:01:05.750Z"
   },
   {
    "duration": 14,
    "start_time": "2024-09-13T09:01:05.754Z"
   },
   {
    "duration": 7,
    "start_time": "2024-09-13T09:01:05.769Z"
   },
   {
    "duration": 61,
    "start_time": "2024-09-13T09:01:05.777Z"
   },
   {
    "duration": 101,
    "start_time": "2024-09-13T09:01:05.840Z"
   },
   {
    "duration": 676,
    "start_time": "2024-09-13T09:01:05.944Z"
   },
   {
    "duration": 10,
    "start_time": "2024-09-13T09:01:06.621Z"
   },
   {
    "duration": 6,
    "start_time": "2024-09-13T09:01:06.633Z"
   },
   {
    "duration": 2,
    "start_time": "2024-09-13T09:01:06.643Z"
   },
   {
    "duration": 5,
    "start_time": "2024-09-13T09:01:06.647Z"
   },
   {
    "duration": 611,
    "start_time": "2024-09-13T09:01:06.654Z"
   },
   {
    "duration": 3,
    "start_time": "2024-09-13T09:01:07.267Z"
   },
   {
    "duration": 8,
    "start_time": "2024-09-13T09:01:07.272Z"
   },
   {
    "duration": 856,
    "start_time": "2024-09-13T09:01:07.281Z"
   },
   {
    "duration": 21812,
    "start_time": "2024-09-13T09:01:08.139Z"
   },
   {
    "duration": 425,
    "start_time": "2024-09-13T09:01:29.953Z"
   },
   {
    "duration": 121,
    "start_time": "2024-09-13T09:01:30.380Z"
   },
   {
    "duration": 120,
    "start_time": "2024-09-13T09:01:30.503Z"
   },
   {
    "duration": 42,
    "start_time": "2024-09-13T09:01:30.624Z"
   }
  ],
  "kernelspec": {
   "display_name": "Python 3 (ipykernel)",
   "language": "python",
   "name": "python3"
  },
  "language_info": {
   "codemirror_mode": {
    "name": "ipython",
    "version": 3
   },
   "file_extension": ".py",
   "mimetype": "text/x-python",
   "name": "python",
   "nbconvert_exporter": "python",
   "pygments_lexer": "ipython3",
   "version": "3.9.19"
  },
  "toc": {
   "base_numbering": 1,
   "nav_menu": {},
   "number_sections": true,
   "sideBar": true,
   "skip_h1_title": true,
   "title_cell": "Table of Contents",
   "title_sidebar": "Contents",
   "toc_cell": false,
   "toc_position": {
    "height": "calc(100% - 180px)",
    "left": "10px",
    "top": "150px",
    "width": "204px"
   },
   "toc_section_display": true,
   "toc_window_display": false
  }
 },
 "nbformat": 4,
 "nbformat_minor": 2
}
